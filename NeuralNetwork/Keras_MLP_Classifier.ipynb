{
 "cells": [
  {
   "cell_type": "markdown",
   "metadata": {},
   "source": [
    "In this code demo, we will talk about how we can build a simple multilayered perceptron classifier using Python. We will be using a library called keras which will use tensor flow as the backend to build our neural networks.\n",
    "\n",
    "We will use pandas and numpy to do dataframe and Matrix operations. We will use matplotlib to plot our data and some of our neural network results, we will also use OS module to set our working directory."
   ]
  },
  {
   "cell_type": "code",
   "execution_count": 1,
   "metadata": {},
   "outputs": [
    {
     "name": "stderr",
     "output_type": "stream",
     "text": [
      "C:\\Users\\VK\\Anaconda3\\lib\\site-packages\\h5py\\__init__.py:36: FutureWarning: Conversion of the second argument of issubdtype from `float` to `np.floating` is deprecated. In future, it will be treated as `np.float64 == np.dtype(float).type`.\n",
      "  from ._conv import register_converters as _register_converters\n",
      "Using TensorFlow backend.\n"
     ]
    }
   ],
   "source": [
    "import keras\n",
    "import pandas as pd\n",
    "import numpy as np\n",
    "import os\n",
    "import matplotlib.pyplot as plt\n",
    "%matplotlib inline"
   ]
  },
  {
   "cell_type": "code",
   "execution_count": 2,
   "metadata": {},
   "outputs": [],
   "source": [
    "# data_dir='E:\\Work\\Machine Learning Course\\Python\\Module 5 Neural Networks\\Data'\n",
    "# os.chdir(data_dir)"
   ]
  },
  {
   "cell_type": "code",
   "execution_count": 3,
   "metadata": {},
   "outputs": [],
   "source": [
    "# train_x=pd.read_csv(\"fashion_train.csv\",header=0)\n",
    "# train_y=pd.read_csv(\"fashion_train_labels.csv\",header=0)\n",
    "# test_x=pd.read_csv(\"fashion_test.csv\",header=0)\n",
    "# test_y=pd.read_csv(\"fashion_test_labels.csv\",header=0)"
   ]
  },
  {
   "cell_type": "code",
   "execution_count": 4,
   "metadata": {},
   "outputs": [],
   "source": [
    "train = pd.read_csv('fashion-mnist_train.csv')\n",
    "test = pd.read_csv('fashion-mnist_test.csv')"
   ]
  },
  {
   "cell_type": "code",
   "execution_count": 5,
   "metadata": {},
   "outputs": [
    {
     "data": {
      "text/html": [
       "<div>\n",
       "<style scoped>\n",
       "    .dataframe tbody tr th:only-of-type {\n",
       "        vertical-align: middle;\n",
       "    }\n",
       "\n",
       "    .dataframe tbody tr th {\n",
       "        vertical-align: top;\n",
       "    }\n",
       "\n",
       "    .dataframe thead th {\n",
       "        text-align: right;\n",
       "    }\n",
       "</style>\n",
       "<table border=\"1\" class=\"dataframe\">\n",
       "  <thead>\n",
       "    <tr style=\"text-align: right;\">\n",
       "      <th></th>\n",
       "      <th>label</th>\n",
       "      <th>pixel1</th>\n",
       "      <th>pixel2</th>\n",
       "      <th>pixel3</th>\n",
       "      <th>pixel4</th>\n",
       "      <th>pixel5</th>\n",
       "      <th>pixel6</th>\n",
       "      <th>pixel7</th>\n",
       "      <th>pixel8</th>\n",
       "      <th>pixel9</th>\n",
       "      <th>...</th>\n",
       "      <th>pixel775</th>\n",
       "      <th>pixel776</th>\n",
       "      <th>pixel777</th>\n",
       "      <th>pixel778</th>\n",
       "      <th>pixel779</th>\n",
       "      <th>pixel780</th>\n",
       "      <th>pixel781</th>\n",
       "      <th>pixel782</th>\n",
       "      <th>pixel783</th>\n",
       "      <th>pixel784</th>\n",
       "    </tr>\n",
       "  </thead>\n",
       "  <tbody>\n",
       "    <tr>\n",
       "      <th>0</th>\n",
       "      <td>2</td>\n",
       "      <td>0</td>\n",
       "      <td>0</td>\n",
       "      <td>0</td>\n",
       "      <td>0</td>\n",
       "      <td>0</td>\n",
       "      <td>0</td>\n",
       "      <td>0</td>\n",
       "      <td>0</td>\n",
       "      <td>0</td>\n",
       "      <td>...</td>\n",
       "      <td>0</td>\n",
       "      <td>0</td>\n",
       "      <td>0</td>\n",
       "      <td>0</td>\n",
       "      <td>0</td>\n",
       "      <td>0</td>\n",
       "      <td>0</td>\n",
       "      <td>0</td>\n",
       "      <td>0</td>\n",
       "      <td>0</td>\n",
       "    </tr>\n",
       "    <tr>\n",
       "      <th>1</th>\n",
       "      <td>9</td>\n",
       "      <td>0</td>\n",
       "      <td>0</td>\n",
       "      <td>0</td>\n",
       "      <td>0</td>\n",
       "      <td>0</td>\n",
       "      <td>0</td>\n",
       "      <td>0</td>\n",
       "      <td>0</td>\n",
       "      <td>0</td>\n",
       "      <td>...</td>\n",
       "      <td>0</td>\n",
       "      <td>0</td>\n",
       "      <td>0</td>\n",
       "      <td>0</td>\n",
       "      <td>0</td>\n",
       "      <td>0</td>\n",
       "      <td>0</td>\n",
       "      <td>0</td>\n",
       "      <td>0</td>\n",
       "      <td>0</td>\n",
       "    </tr>\n",
       "    <tr>\n",
       "      <th>2</th>\n",
       "      <td>6</td>\n",
       "      <td>0</td>\n",
       "      <td>0</td>\n",
       "      <td>0</td>\n",
       "      <td>0</td>\n",
       "      <td>0</td>\n",
       "      <td>0</td>\n",
       "      <td>0</td>\n",
       "      <td>5</td>\n",
       "      <td>0</td>\n",
       "      <td>...</td>\n",
       "      <td>0</td>\n",
       "      <td>0</td>\n",
       "      <td>0</td>\n",
       "      <td>30</td>\n",
       "      <td>43</td>\n",
       "      <td>0</td>\n",
       "      <td>0</td>\n",
       "      <td>0</td>\n",
       "      <td>0</td>\n",
       "      <td>0</td>\n",
       "    </tr>\n",
       "    <tr>\n",
       "      <th>3</th>\n",
       "      <td>0</td>\n",
       "      <td>0</td>\n",
       "      <td>0</td>\n",
       "      <td>0</td>\n",
       "      <td>1</td>\n",
       "      <td>2</td>\n",
       "      <td>0</td>\n",
       "      <td>0</td>\n",
       "      <td>0</td>\n",
       "      <td>0</td>\n",
       "      <td>...</td>\n",
       "      <td>3</td>\n",
       "      <td>0</td>\n",
       "      <td>0</td>\n",
       "      <td>0</td>\n",
       "      <td>0</td>\n",
       "      <td>1</td>\n",
       "      <td>0</td>\n",
       "      <td>0</td>\n",
       "      <td>0</td>\n",
       "      <td>0</td>\n",
       "    </tr>\n",
       "    <tr>\n",
       "      <th>4</th>\n",
       "      <td>3</td>\n",
       "      <td>0</td>\n",
       "      <td>0</td>\n",
       "      <td>0</td>\n",
       "      <td>0</td>\n",
       "      <td>0</td>\n",
       "      <td>0</td>\n",
       "      <td>0</td>\n",
       "      <td>0</td>\n",
       "      <td>0</td>\n",
       "      <td>...</td>\n",
       "      <td>0</td>\n",
       "      <td>0</td>\n",
       "      <td>0</td>\n",
       "      <td>0</td>\n",
       "      <td>0</td>\n",
       "      <td>0</td>\n",
       "      <td>0</td>\n",
       "      <td>0</td>\n",
       "      <td>0</td>\n",
       "      <td>0</td>\n",
       "    </tr>\n",
       "  </tbody>\n",
       "</table>\n",
       "<p>5 rows × 785 columns</p>\n",
       "</div>"
      ],
      "text/plain": [
       "   label  pixel1  pixel2  pixel3  pixel4  pixel5  pixel6  pixel7  pixel8  \\\n",
       "0      2       0       0       0       0       0       0       0       0   \n",
       "1      9       0       0       0       0       0       0       0       0   \n",
       "2      6       0       0       0       0       0       0       0       5   \n",
       "3      0       0       0       0       1       2       0       0       0   \n",
       "4      3       0       0       0       0       0       0       0       0   \n",
       "\n",
       "   pixel9  ...  pixel775  pixel776  pixel777  pixel778  pixel779  pixel780  \\\n",
       "0       0  ...         0         0         0         0         0         0   \n",
       "1       0  ...         0         0         0         0         0         0   \n",
       "2       0  ...         0         0         0        30        43         0   \n",
       "3       0  ...         3         0         0         0         0         1   \n",
       "4       0  ...         0         0         0         0         0         0   \n",
       "\n",
       "   pixel781  pixel782  pixel783  pixel784  \n",
       "0         0         0         0         0  \n",
       "1         0         0         0         0  \n",
       "2         0         0         0         0  \n",
       "3         0         0         0         0  \n",
       "4         0         0         0         0  \n",
       "\n",
       "[5 rows x 785 columns]"
      ]
     },
     "execution_count": 5,
     "metadata": {},
     "output_type": "execute_result"
    }
   ],
   "source": [
    "train.head()"
   ]
  },
  {
   "cell_type": "code",
   "execution_count": 6,
   "metadata": {},
   "outputs": [
    {
     "data": {
      "text/html": [
       "<div>\n",
       "<style scoped>\n",
       "    .dataframe tbody tr th:only-of-type {\n",
       "        vertical-align: middle;\n",
       "    }\n",
       "\n",
       "    .dataframe tbody tr th {\n",
       "        vertical-align: top;\n",
       "    }\n",
       "\n",
       "    .dataframe thead th {\n",
       "        text-align: right;\n",
       "    }\n",
       "</style>\n",
       "<table border=\"1\" class=\"dataframe\">\n",
       "  <thead>\n",
       "    <tr style=\"text-align: right;\">\n",
       "      <th></th>\n",
       "      <th>label</th>\n",
       "      <th>pixel1</th>\n",
       "      <th>pixel2</th>\n",
       "      <th>pixel3</th>\n",
       "      <th>pixel4</th>\n",
       "      <th>pixel5</th>\n",
       "      <th>pixel6</th>\n",
       "      <th>pixel7</th>\n",
       "      <th>pixel8</th>\n",
       "      <th>pixel9</th>\n",
       "      <th>...</th>\n",
       "      <th>pixel775</th>\n",
       "      <th>pixel776</th>\n",
       "      <th>pixel777</th>\n",
       "      <th>pixel778</th>\n",
       "      <th>pixel779</th>\n",
       "      <th>pixel780</th>\n",
       "      <th>pixel781</th>\n",
       "      <th>pixel782</th>\n",
       "      <th>pixel783</th>\n",
       "      <th>pixel784</th>\n",
       "    </tr>\n",
       "  </thead>\n",
       "  <tbody>\n",
       "    <tr>\n",
       "      <th>0</th>\n",
       "      <td>0</td>\n",
       "      <td>0</td>\n",
       "      <td>0</td>\n",
       "      <td>0</td>\n",
       "      <td>0</td>\n",
       "      <td>0</td>\n",
       "      <td>0</td>\n",
       "      <td>0</td>\n",
       "      <td>9</td>\n",
       "      <td>8</td>\n",
       "      <td>...</td>\n",
       "      <td>103</td>\n",
       "      <td>87</td>\n",
       "      <td>56</td>\n",
       "      <td>0</td>\n",
       "      <td>0</td>\n",
       "      <td>0</td>\n",
       "      <td>0</td>\n",
       "      <td>0</td>\n",
       "      <td>0</td>\n",
       "      <td>0</td>\n",
       "    </tr>\n",
       "    <tr>\n",
       "      <th>1</th>\n",
       "      <td>1</td>\n",
       "      <td>0</td>\n",
       "      <td>0</td>\n",
       "      <td>0</td>\n",
       "      <td>0</td>\n",
       "      <td>0</td>\n",
       "      <td>0</td>\n",
       "      <td>0</td>\n",
       "      <td>0</td>\n",
       "      <td>0</td>\n",
       "      <td>...</td>\n",
       "      <td>34</td>\n",
       "      <td>0</td>\n",
       "      <td>0</td>\n",
       "      <td>0</td>\n",
       "      <td>0</td>\n",
       "      <td>0</td>\n",
       "      <td>0</td>\n",
       "      <td>0</td>\n",
       "      <td>0</td>\n",
       "      <td>0</td>\n",
       "    </tr>\n",
       "    <tr>\n",
       "      <th>2</th>\n",
       "      <td>2</td>\n",
       "      <td>0</td>\n",
       "      <td>0</td>\n",
       "      <td>0</td>\n",
       "      <td>0</td>\n",
       "      <td>0</td>\n",
       "      <td>0</td>\n",
       "      <td>14</td>\n",
       "      <td>53</td>\n",
       "      <td>99</td>\n",
       "      <td>...</td>\n",
       "      <td>0</td>\n",
       "      <td>0</td>\n",
       "      <td>0</td>\n",
       "      <td>0</td>\n",
       "      <td>63</td>\n",
       "      <td>53</td>\n",
       "      <td>31</td>\n",
       "      <td>0</td>\n",
       "      <td>0</td>\n",
       "      <td>0</td>\n",
       "    </tr>\n",
       "    <tr>\n",
       "      <th>3</th>\n",
       "      <td>2</td>\n",
       "      <td>0</td>\n",
       "      <td>0</td>\n",
       "      <td>0</td>\n",
       "      <td>0</td>\n",
       "      <td>0</td>\n",
       "      <td>0</td>\n",
       "      <td>0</td>\n",
       "      <td>0</td>\n",
       "      <td>0</td>\n",
       "      <td>...</td>\n",
       "      <td>137</td>\n",
       "      <td>126</td>\n",
       "      <td>140</td>\n",
       "      <td>0</td>\n",
       "      <td>133</td>\n",
       "      <td>224</td>\n",
       "      <td>222</td>\n",
       "      <td>56</td>\n",
       "      <td>0</td>\n",
       "      <td>0</td>\n",
       "    </tr>\n",
       "    <tr>\n",
       "      <th>4</th>\n",
       "      <td>3</td>\n",
       "      <td>0</td>\n",
       "      <td>0</td>\n",
       "      <td>0</td>\n",
       "      <td>0</td>\n",
       "      <td>0</td>\n",
       "      <td>0</td>\n",
       "      <td>0</td>\n",
       "      <td>0</td>\n",
       "      <td>0</td>\n",
       "      <td>...</td>\n",
       "      <td>0</td>\n",
       "      <td>0</td>\n",
       "      <td>0</td>\n",
       "      <td>0</td>\n",
       "      <td>0</td>\n",
       "      <td>0</td>\n",
       "      <td>0</td>\n",
       "      <td>0</td>\n",
       "      <td>0</td>\n",
       "      <td>0</td>\n",
       "    </tr>\n",
       "  </tbody>\n",
       "</table>\n",
       "<p>5 rows × 785 columns</p>\n",
       "</div>"
      ],
      "text/plain": [
       "   label  pixel1  pixel2  pixel3  pixel4  pixel5  pixel6  pixel7  pixel8  \\\n",
       "0      0       0       0       0       0       0       0       0       9   \n",
       "1      1       0       0       0       0       0       0       0       0   \n",
       "2      2       0       0       0       0       0       0      14      53   \n",
       "3      2       0       0       0       0       0       0       0       0   \n",
       "4      3       0       0       0       0       0       0       0       0   \n",
       "\n",
       "   pixel9  ...  pixel775  pixel776  pixel777  pixel778  pixel779  pixel780  \\\n",
       "0       8  ...       103        87        56         0         0         0   \n",
       "1       0  ...        34         0         0         0         0         0   \n",
       "2      99  ...         0         0         0         0        63        53   \n",
       "3       0  ...       137       126       140         0       133       224   \n",
       "4       0  ...         0         0         0         0         0         0   \n",
       "\n",
       "   pixel781  pixel782  pixel783  pixel784  \n",
       "0         0         0         0         0  \n",
       "1         0         0         0         0  \n",
       "2        31         0         0         0  \n",
       "3       222        56         0         0  \n",
       "4         0         0         0         0  \n",
       "\n",
       "[5 rows x 785 columns]"
      ]
     },
     "execution_count": 6,
     "metadata": {},
     "output_type": "execute_result"
    }
   ],
   "source": [
    "test.head()"
   ]
  },
  {
   "cell_type": "code",
   "execution_count": 7,
   "metadata": {},
   "outputs": [],
   "source": [
    "xtrain = train.drop('label', axis=1)\n",
    "ytrain = train['label']"
   ]
  },
  {
   "cell_type": "code",
   "execution_count": 8,
   "metadata": {},
   "outputs": [],
   "source": [
    "xtest = test.drop('label', axis=1)\n",
    "ytest = test['label']"
   ]
  },
  {
   "cell_type": "code",
   "execution_count": 9,
   "metadata": {},
   "outputs": [],
   "source": [
    "xtrain = xtrain/255.0\n",
    "xtest = xtest/255.0"
   ]
  },
  {
   "cell_type": "code",
   "execution_count": 10,
   "metadata": {},
   "outputs": [
    {
     "name": "stdout",
     "output_type": "stream",
     "text": [
      "(60000, 784)\n",
      "(60000,)\n",
      "(10000, 784)\n",
      "(10000,)\n"
     ]
    }
   ],
   "source": [
    "print(xtrain.shape)\n",
    "print(ytrain.shape)\n",
    "print(xtest.shape)\n",
    "print(ytest.shape)"
   ]
  },
  {
   "cell_type": "code",
   "execution_count": 11,
   "metadata": {},
   "outputs": [
    {
     "name": "stdout",
     "output_type": "stream",
     "text": [
      "   pixel1  pixel2  pixel3    pixel4    pixel5  pixel6  pixel7    pixel8  \\\n",
      "0     0.0     0.0     0.0  0.000000  0.000000     0.0     0.0  0.000000   \n",
      "1     0.0     0.0     0.0  0.000000  0.000000     0.0     0.0  0.000000   \n",
      "2     0.0     0.0     0.0  0.000000  0.000000     0.0     0.0  0.019608   \n",
      "3     0.0     0.0     0.0  0.003922  0.007843     0.0     0.0  0.000000   \n",
      "4     0.0     0.0     0.0  0.000000  0.000000     0.0     0.0  0.000000   \n",
      "\n",
      "   pixel9  pixel10  ...  pixel775  pixel776  pixel777  pixel778  pixel779  \\\n",
      "0     0.0      0.0  ...  0.000000       0.0       0.0  0.000000  0.000000   \n",
      "1     0.0      0.0  ...  0.000000       0.0       0.0  0.000000  0.000000   \n",
      "2     0.0      0.0  ...  0.000000       0.0       0.0  0.117647  0.168627   \n",
      "3     0.0      0.0  ...  0.011765       0.0       0.0  0.000000  0.000000   \n",
      "4     0.0      0.0  ...  0.000000       0.0       0.0  0.000000  0.000000   \n",
      "\n",
      "   pixel780  pixel781  pixel782  pixel783  pixel784  \n",
      "0  0.000000       0.0       0.0       0.0       0.0  \n",
      "1  0.000000       0.0       0.0       0.0       0.0  \n",
      "2  0.000000       0.0       0.0       0.0       0.0  \n",
      "3  0.003922       0.0       0.0       0.0       0.0  \n",
      "4  0.000000       0.0       0.0       0.0       0.0  \n",
      "\n",
      "[5 rows x 784 columns]\n"
     ]
    }
   ],
   "source": [
    "print(xtrain.head())"
   ]
  },
  {
   "cell_type": "markdown",
   "metadata": {},
   "source": [
    "The data that we have in train_x corresponds to a set of images that have been flattened."
   ]
  },
  {
   "cell_type": "code",
   "execution_count": 12,
   "metadata": {},
   "outputs": [
    {
     "name": "stdout",
     "output_type": "stream",
     "text": [
      "0    2\n",
      "1    9\n",
      "2    6\n",
      "3    0\n",
      "4    3\n",
      "Name: label, dtype: int64\n"
     ]
    }
   ],
   "source": [
    "print(ytrain.head())"
   ]
  },
  {
   "cell_type": "markdown",
   "metadata": {},
   "source": [
    "it looks like each row has a particular class label, so for example row number 1 in our training data set has a class label of 9, row number 2 has a class label of 6, row number 3 has a class label of 0 again, so on and so forth."
   ]
  },
  {
   "cell_type": "markdown",
   "metadata": {},
   "source": [
    "now these class labels correspond to what images are there in our data set, so we have images about ten category of objects and these are those categories. So 0 in our data set for a Y label represents a t-shirt or a top, 1 represents a trouser, 2 represents a pullover, so on and so forth."
   ]
  },
  {
   "cell_type": "markdown",
   "metadata": {},
   "source": [
    "## These labels are\n",
    "\n",
    "| Label | Description |\n",
    "|-------|-------------|\n",
    "| 0     | T-shirt/Top |\n",
    "| 1     | Trouser     |\n",
    "| 2     | Pullover    |\n",
    "| 3     | Dress       |\n",
    "| 4     | Coat        |\n",
    "| 5     | Sandal      |\n",
    "| 6     | Shirt       |\n",
    "| 7     | Sneaker     |\n",
    "| 8     | Bag         |\n",
    "| 9     | Ankle Boot  |"
   ]
  },
  {
   "cell_type": "markdown",
   "metadata": {},
   "source": [
    "Lets take a look at the image in the first row of our data. Lets plot it using matplotlib and see what image we have."
   ]
  },
  {
   "cell_type": "code",
   "execution_count": 13,
   "metadata": {},
   "outputs": [
    {
     "data": {
      "text/plain": [
       "<matplotlib.image.AxesImage at 0x24b37379f98>"
      ]
     },
     "execution_count": 13,
     "metadata": {},
     "output_type": "execute_result"
    },
    {
     "data": {
      "image/png": "[encoded data removed]",
      "text/plain": [
       "<Figure size 432x288 with 1 Axes>"
      ]
     },
     "metadata": {},
     "output_type": "display_data"
    }
   ],
   "source": [
    "plt.imshow(np.array(xtrain.iloc[0]).reshape((28,28)),cmap='gray')"
   ]
  },
  {
   "cell_type": "markdown",
   "metadata": {},
   "source": [
    "This seems like an image of a pullover. So similarly, in our dataset, we have 60,000 images corresponding to either a t-shirt, a trouser, a pullover, so on and so forth."
   ]
  },
  {
   "cell_type": "markdown",
   "metadata": {},
   "source": [
    "Now, to make our life easier, what we are going to do is we are going to create a dictionary corresponding to the class labels and their descriptions that later on when we do the prediction from our model, it will become relatively easy for us to query what a given class label means. So lets do that."
   ]
  },
  {
   "cell_type": "code",
   "execution_count": 14,
   "metadata": {},
   "outputs": [],
   "source": [
    "## Create a dictionary of labels\n",
    "label_dic={0:'T-shirt/Top',1:'Trouser',2:'Pullover',3:'Dress',4:'Coat',5:'Sandal',6:'Shirt',\n",
    "           7:'Sneaker',8:'Bag',9:'Ankle Boot'}"
   ]
  },
  {
   "cell_type": "markdown",
   "metadata": {},
   "source": [
    "Now, for keras to work, just like scikit learn, we need to do two things, the first thing that we need to do is, we need to create a predictor matrix and our predictor matrix is going to be our train_x dataframe, this contains the pixel intensities for the images that we have. Also, we need to create a Y matrix . now, if we compare keras with scikit learn, there is a slight difference between how the Y works in both keras and scikit learn. In scikit learn, Y is just a single vector, whereas in keras, the Y has to be a matrix which should have as many columns as there are classes. So let me run this code and show you how our Y looks like."
   ]
  },
  {
   "cell_type": "code",
   "execution_count": 15,
   "metadata": {},
   "outputs": [],
   "source": [
    "## Create numpy arrays for predictor matrix and labels\n",
    "x=np.array(xtrain)\n",
    "y=keras.utils.to_categorical(np.array(ytrain),10)"
   ]
  },
  {
   "cell_type": "code",
   "execution_count": 16,
   "metadata": {},
   "outputs": [
    {
     "data": {
      "text/html": [
       "<div>\n",
       "<style scoped>\n",
       "    .dataframe tbody tr th:only-of-type {\n",
       "        vertical-align: middle;\n",
       "    }\n",
       "\n",
       "    .dataframe tbody tr th {\n",
       "        vertical-align: top;\n",
       "    }\n",
       "\n",
       "    .dataframe thead th {\n",
       "        text-align: right;\n",
       "    }\n",
       "</style>\n",
       "<table border=\"1\" class=\"dataframe\">\n",
       "  <thead>\n",
       "    <tr style=\"text-align: right;\">\n",
       "      <th></th>\n",
       "      <th>0</th>\n",
       "      <th>1</th>\n",
       "      <th>2</th>\n",
       "      <th>3</th>\n",
       "      <th>4</th>\n",
       "      <th>5</th>\n",
       "      <th>6</th>\n",
       "      <th>7</th>\n",
       "      <th>8</th>\n",
       "      <th>9</th>\n",
       "    </tr>\n",
       "  </thead>\n",
       "  <tbody>\n",
       "    <tr>\n",
       "      <th>0</th>\n",
       "      <td>0.0</td>\n",
       "      <td>0.0</td>\n",
       "      <td>1.0</td>\n",
       "      <td>0.0</td>\n",
       "      <td>0.0</td>\n",
       "      <td>0.0</td>\n",
       "      <td>0.0</td>\n",
       "      <td>0.0</td>\n",
       "      <td>0.0</td>\n",
       "      <td>0.0</td>\n",
       "    </tr>\n",
       "    <tr>\n",
       "      <th>1</th>\n",
       "      <td>0.0</td>\n",
       "      <td>0.0</td>\n",
       "      <td>0.0</td>\n",
       "      <td>0.0</td>\n",
       "      <td>0.0</td>\n",
       "      <td>0.0</td>\n",
       "      <td>0.0</td>\n",
       "      <td>0.0</td>\n",
       "      <td>0.0</td>\n",
       "      <td>1.0</td>\n",
       "    </tr>\n",
       "    <tr>\n",
       "      <th>2</th>\n",
       "      <td>0.0</td>\n",
       "      <td>0.0</td>\n",
       "      <td>0.0</td>\n",
       "      <td>0.0</td>\n",
       "      <td>0.0</td>\n",
       "      <td>0.0</td>\n",
       "      <td>1.0</td>\n",
       "      <td>0.0</td>\n",
       "      <td>0.0</td>\n",
       "      <td>0.0</td>\n",
       "    </tr>\n",
       "    <tr>\n",
       "      <th>3</th>\n",
       "      <td>1.0</td>\n",
       "      <td>0.0</td>\n",
       "      <td>0.0</td>\n",
       "      <td>0.0</td>\n",
       "      <td>0.0</td>\n",
       "      <td>0.0</td>\n",
       "      <td>0.0</td>\n",
       "      <td>0.0</td>\n",
       "      <td>0.0</td>\n",
       "      <td>0.0</td>\n",
       "    </tr>\n",
       "    <tr>\n",
       "      <th>4</th>\n",
       "      <td>0.0</td>\n",
       "      <td>0.0</td>\n",
       "      <td>0.0</td>\n",
       "      <td>1.0</td>\n",
       "      <td>0.0</td>\n",
       "      <td>0.0</td>\n",
       "      <td>0.0</td>\n",
       "      <td>0.0</td>\n",
       "      <td>0.0</td>\n",
       "      <td>0.0</td>\n",
       "    </tr>\n",
       "  </tbody>\n",
       "</table>\n",
       "</div>"
      ],
      "text/plain": [
       "     0    1    2    3    4    5    6    7    8    9\n",
       "0  0.0  0.0  1.0  0.0  0.0  0.0  0.0  0.0  0.0  0.0\n",
       "1  0.0  0.0  0.0  0.0  0.0  0.0  0.0  0.0  0.0  1.0\n",
       "2  0.0  0.0  0.0  0.0  0.0  0.0  1.0  0.0  0.0  0.0\n",
       "3  1.0  0.0  0.0  0.0  0.0  0.0  0.0  0.0  0.0  0.0\n",
       "4  0.0  0.0  0.0  1.0  0.0  0.0  0.0  0.0  0.0  0.0"
      ]
     },
     "execution_count": 16,
     "metadata": {},
     "output_type": "execute_result"
    }
   ],
   "source": [
    "pd.DataFrame(y).head()"
   ]
  },
  {
   "cell_type": "markdown",
   "metadata": {},
   "source": [
    "So this is how our Y looks like, now since in the first row of our data, the class is 2, hence I have 1 corresponding to 2 in my first row. Similarly, in the second row of my data, the class is 9, hence I have 1 corresponding to 9. So we need to create this kind of structure for our Y variable when you are working with keras and this is what this function, keras.utils.to.categorical does."
   ]
  },
  {
   "cell_type": "markdown",
   "metadata": {},
   "source": [
    "Now we are ready to build our multilayer perceptron classifier, so the first thing I will do is, I will import an object called sequential and I will also import something called dense and activation. Now lets see what these two terms mean, let us execute this code."
   ]
  },
  {
   "cell_type": "code",
   "execution_count": 17,
   "metadata": {},
   "outputs": [],
   "source": [
    "from keras.models import Sequential\n",
    "from keras.layers import Dense, Activation"
   ]
  },
  {
   "cell_type": "code",
   "execution_count": 18,
   "metadata": {},
   "outputs": [],
   "source": [
    "model=Sequential()"
   ]
  },
  {
   "cell_type": "markdown",
   "metadata": {},
   "source": [
    "Sequential is very similar to what we do in scikit learn when we instantiate an instance of a model object, so this simply instantiates our model object. Now within this model object, I create the network architecture"
   ]
  },
  {
   "cell_type": "code",
   "execution_count": 19,
   "metadata": {},
   "outputs": [],
   "source": [
    "## Create network architecture\n",
    "model.add(Dense(units=24,input_dim=784))\n",
    "model.add(Activation('sigmoid'))\n",
    "model.add(Dense(units=10))\n",
    "model.add(Activation('softmax'))"
   ]
  },
  {
   "cell_type": "markdown",
   "metadata": {},
   "source": [
    "so the kind of network that I am working with is, it’s a multilayered perceptron with one hidden layer and one output layer. Now in my first hidden layer, I want 24 neurons and I will also have to specify the input dimension, since if you look at the shape of my X matrix, you will realize that it has 784 columns that is what I am specifying here. So..so this model.add tells me that I have one hidden layer which is a dense layer."
   ]
  },
  {
   "cell_type": "markdown",
   "metadata": {},
   "source": [
    "Now dense layer is another name for, or another way of saying that I have a fully connected hidden layer and the activation of all these 24 neurons in this dense layer is a sigmoid activation. Now then I again add a dense layer which is my output layer. Now since I have 10 classes to predict for and this is a multilayer perceptron classifier, hence I should have 10 neurons in my output layer and since this is a classifier, I should have a softmax activation. So lets run this, up untill now, all that has happened is I have simply specified the architecture of my neural network."
   ]
  },
  {
   "cell_type": "markdown",
   "metadata": {},
   "source": [
    "Now the next thing I need to do is, I need to compile my model and I need to specify a few parameters over here. One of the parameters that I have to manually specify is, now since I am building a neural network classifier, the appropriate loss will be categorical crossentropy, which I will need to specify for the loss function in the compile method. I will also have to specify the optimizer I will use. Since I will supply batches of my data to do the training, I will in fact be doing a stochastic gradient descent, so this is what I am specifying here and the next thing I am saying is that I will be tracking the accuracy over each epoch of my training. So lets compile our model. After we compile our model, we are ready to fit our model."
   ]
  },
  {
   "cell_type": "code",
   "execution_count": 20,
   "metadata": {},
   "outputs": [],
   "source": [
    "model.compile(loss='categorical_crossentropy',optimizer='sgd',metrics=['accuracy'])\n",
    "## for reg, loss='mean_squared_error'; metrics=['mse','mae'] --> refer keras doc"
   ]
  },
  {
   "cell_type": "markdown",
   "metadata": {},
   "source": [
    "Here I will call the fit method and I will supply my predictor matrix and my target matrix, here I am specifying the number of epochs so I will do the training for this neural network for ten epochs. Remember one epoch is a complete pass over my data, then I will have to specify the batch size. I will be sending batches of 1000 rows for my single forward and a backward pass. And the fit method also allows me to do an out of sample validation of my training process, so this parameter over here tells the fit method to keep 20% of my data to do validation, so lets run this."
   ]
  },
  {
   "cell_type": "code",
   "execution_count": 21,
   "metadata": {},
   "outputs": [
    {
     "name": "stdout",
     "output_type": "stream",
     "text": [
      "Train on 48000 samples, validate on 12000 samples\n",
      "Epoch 1/10\n",
      "48000/48000 [==============================] - 2s 45us/step - loss: 2.3333 - acc: 0.1849 - val_loss: 2.2446 - val_acc: 0.2043\n",
      "Epoch 2/10\n",
      "48000/48000 [==============================] - 2s 39us/step - loss: 2.1957 - acc: 0.2344 - val_loss: 2.1522 - val_acc: 0.2852\n",
      "Epoch 3/10\n",
      "48000/48000 [==============================] - 2s 39us/step - loss: 2.1186 - acc: 0.3223 - val_loss: 2.0846 - val_acc: 0.3887\n",
      "Epoch 4/10\n",
      "48000/48000 [==============================] - 3s 67us/step - loss: 2.0560 - acc: 0.4394 - val_loss: 2.0256 - val_acc: 0.4765\n",
      "Epoch 5/10\n",
      "48000/48000 [==============================] - 2s 48us/step - loss: 1.9997 - acc: 0.4896 - val_loss: 1.9716 - val_acc: 0.5085\n",
      "Epoch 6/10\n",
      "48000/48000 [==============================] - 2s 43us/step - loss: 1.9476 - acc: 0.5146 - val_loss: 1.9210 - val_acc: 0.5286\n",
      "Epoch 7/10\n",
      "48000/48000 [==============================] - 2s 37us/step - loss: 1.8987 - acc: 0.5323 - val_loss: 1.8734 - val_acc: 0.5502\n",
      "Epoch 8/10\n",
      "48000/48000 [==============================] - 2s 34us/step - loss: 1.8524 - acc: 0.5509 - val_loss: 1.8283 - val_acc: 0.5677\n",
      "Epoch 9/10\n",
      "48000/48000 [==============================] - 2s 36us/step - loss: 1.8085 - acc: 0.5674 - val_loss: 1.7854 - val_acc: 0.5832\n",
      "Epoch 10/10\n",
      "48000/48000 [==============================] - 2s 37us/step - loss: 1.7667 - acc: 0.5816 - val_loss: 1.7445 - val_acc: 0.5978\n"
     ]
    }
   ],
   "source": [
    "history=model.fit(x,y,epochs=10,batch_size=1000,validation_split=0.20)"
   ]
  },
  {
   "cell_type": "code",
   "execution_count": null,
   "metadata": {},
   "outputs": [],
   "source": [
    "# ## Epoch-level methods (training only)\n",
    "# on_epoch_begin(self, epoch, logs=None)\n",
    "# Called at the beginning of an epoch during training.\n",
    "\n",
    "# on_epoch_end(self, epoch, logs=None)\n",
    "# Called at the end of an epoch during training."
   ]
  },
  {
   "cell_type": "markdown",
   "metadata": {},
   "source": [
    "Now the training usually will take some time depending upon how many epochs you want to train and what is your batch size and the time that the training takes will also depend upon what kind of computer you are using."
   ]
  },
  {
   "cell_type": "code",
   "execution_count": 22,
   "metadata": {},
   "outputs": [],
   "source": [
    "# p=model.predict(np.array(xtest.loc[8]).reshape(1,784))"
   ]
  },
  {
   "cell_type": "markdown",
   "metadata": {},
   "source": [
    "Now I will use predict_probability method to come up with a prediction from my model. I will be supplying only one row of my data which is the first row..lets do that. Lets see what p contains"
   ]
  },
  {
   "cell_type": "code",
   "execution_count": 23,
   "metadata": {},
   "outputs": [],
   "source": [
    "p=model.predict_proba(np.array(xtest.loc[0]).reshape(1,784))"
   ]
  },
  {
   "cell_type": "code",
   "execution_count": 24,
   "metadata": {},
   "outputs": [
    {
     "data": {
      "text/plain": [
       "array([[0.2201476 , 0.11470044, 0.0826533 , 0.10975358, 0.09696154,\n",
       "        0.07613995, 0.13564093, 0.0299709 , 0.08122647, 0.0528054 ]],\n",
       "      dtype=float32)"
      ]
     },
     "execution_count": 24,
     "metadata": {},
     "output_type": "execute_result"
    }
   ],
   "source": [
    "p"
   ]
  },
  {
   "cell_type": "markdown",
   "metadata": {},
   "source": [
    "p contains the probability that this row belongs to class0, class1, class2, class3 and so on. Let us figure out where the maximum value of probability occurs in this particular predicted vector of probabilities.\n",
    "\n",
    "The maximum values occurs for a label corresponding to index 0. "
   ]
  },
  {
   "cell_type": "code",
   "execution_count": 25,
   "metadata": {},
   "outputs": [
    {
     "data": {
      "text/plain": [
       "0"
      ]
     },
     "execution_count": 25,
     "metadata": {},
     "output_type": "execute_result"
    }
   ],
   "source": [
    "np.argmax(p)"
   ]
  },
  {
   "cell_type": "markdown",
   "metadata": {},
   "source": [
    "Lets see what is corresponding to index 0 in our data. "
   ]
  },
  {
   "cell_type": "code",
   "execution_count": 26,
   "metadata": {},
   "outputs": [
    {
     "data": {
      "text/plain": [
       "'T-shirt/Top'"
      ]
     },
     "execution_count": 26,
     "metadata": {},
     "output_type": "execute_result"
    }
   ],
   "source": [
    "label_dic[0]"
   ]
  },
  {
   "cell_type": "markdown",
   "metadata": {},
   "source": [
    "So index 0 corresponds to T-shirt/Top. Lets visualize our first row of test data and see what is contained in there."
   ]
  },
  {
   "cell_type": "code",
   "execution_count": 27,
   "metadata": {},
   "outputs": [
    {
     "data": {
      "text/plain": [
       "<matplotlib.image.AxesImage at 0x24b37cb5a58>"
      ]
     },
     "execution_count": 27,
     "metadata": {},
     "output_type": "execute_result"
    },
    {
     "data": {
      "image/png": "[encoded data removed]",
      "text/plain": [
       "<Figure size 432x288 with 1 Axes>"
      ]
     },
     "metadata": {},
     "output_type": "display_data"
    }
   ],
   "source": [
    "plt.imshow(np.array(xtest.loc[0]).reshape((28,28)),cmap='gray')"
   ]
  },
  {
   "cell_type": "markdown",
   "metadata": {},
   "source": [
    "Lets do a prediction for the 9th row in our data which is the 9th image and lets figure out at which index do we have the highest probability"
   ]
  },
  {
   "cell_type": "code",
   "execution_count": 28,
   "metadata": {},
   "outputs": [],
   "source": [
    "p=model.predict_proba(np.array(xtest.loc[8]).reshape(1,784))"
   ]
  },
  {
   "cell_type": "code",
   "execution_count": 29,
   "metadata": {},
   "outputs": [
    {
     "data": {
      "text/plain": [
       "5"
      ]
     },
     "execution_count": 29,
     "metadata": {},
     "output_type": "execute_result"
    }
   ],
   "source": [
    "np.argmax(p)"
   ]
  },
  {
   "cell_type": "code",
   "execution_count": 30,
   "metadata": {},
   "outputs": [
    {
     "data": {
      "text/plain": [
       "'Sandal'"
      ]
     },
     "execution_count": 30,
     "metadata": {},
     "output_type": "execute_result"
    }
   ],
   "source": [
    "label_dic[5]"
   ]
  },
  {
   "cell_type": "code",
   "execution_count": 31,
   "metadata": {},
   "outputs": [
    {
     "data": {
      "text/plain": [
       "<matplotlib.image.AxesImage at 0x24b37d194a8>"
      ]
     },
     "execution_count": 31,
     "metadata": {},
     "output_type": "execute_result"
    },
    {
     "data": {
      "image/png": "[encoded data removed]",
      "text/plain": [
       "<Figure size 432x288 with 1 Axes>"
      ]
     },
     "metadata": {},
     "output_type": "display_data"
    }
   ],
   "source": [
    "plt.imshow(np.array(xtest.loc[8]).reshape((28,28)),cmap='gray')"
   ]
  },
  {
   "cell_type": "markdown",
   "metadata": {},
   "source": [
    "You may get a wrong label - because when you see the validation accuracy is only around 67.44% after model run. \n",
    "\n",
    "Now I have taken a very simple architecture over here for the demonstration purposes and with this architecture over this data set, I was able to achieve a validation accuracy of 70%.\n",
    "Now you can experiment with different layers in your architecture to improve the accuracy of your model."
   ]
  },
  {
   "cell_type": "markdown",
   "metadata": {},
   "source": [
    "Now another thing that we can do is we can plot the training and validation accuracy across all our epochs. This is what I am doing here."
   ]
  },
  {
   "cell_type": "code",
   "execution_count": 32,
   "metadata": {},
   "outputs": [
    {
     "data": {
      "image/png": "[encoded data removed]",
      "text/plain": [
       "<Figure size 432x288 with 1 Axes>"
      ]
     },
     "metadata": {},
     "output_type": "display_data"
    }
   ],
   "source": [
    "## Check for overfit\n",
    "# Plot training and validation accuracy\n",
    "plt.plot(history.history['acc'])\n",
    "plt.plot(history.history['val_acc'])\n",
    "plt.title('model accuracy')\n",
    "plt.ylabel('accuracy')\n",
    "plt.xlabel('epoch')\n",
    "plt.legend(['train', 'test'], loc='upper left')\n",
    "plt.show()"
   ]
  },
  {
   "cell_type": "markdown",
   "metadata": {},
   "source": [
    "If you remember while fitting my model, I had stored the output of the fit in an object called history and using this object and matplotlib, I am creating this visual which corresponds to my model accuracy across different epochs on my train and test data.\n",
    "\n",
    "I can also look at how my loss changes across different epochs"
   ]
  },
  {
   "cell_type": "code",
   "execution_count": 33,
   "metadata": {},
   "outputs": [
    {
     "data": {
      "image/png": "[encoded data removed]",
      "text/plain": [
       "<Figure size 432x288 with 1 Axes>"
      ]
     },
     "metadata": {},
     "output_type": "display_data"
    }
   ],
   "source": [
    "# summarize history for loss\n",
    "plt.plot(history.history['loss'])\n",
    "plt.plot(history.history['val_loss'])\n",
    "plt.title('model loss')\n",
    "plt.ylabel('loss')\n",
    "plt.xlabel('epoch')\n",
    "plt.legend(['train', 'test'], loc='upper left')\n",
    "plt.show()"
   ]
  },
  {
   "cell_type": "markdown",
   "metadata": {},
   "source": [
    "### Regularization in MLP"
   ]
  },
  {
   "cell_type": "markdown",
   "metadata": {},
   "source": [
    "In this code demo we’ll talk about how we can introduce regularization using L1 norm, L2 norm and dropout layers in a multi layered perceptron."
   ]
  },
  {
   "cell_type": "markdown",
   "metadata": {},
   "source": [
    "we’ll import L1 and L2 modules from the regularizers module.\n"
   ]
  },
  {
   "cell_type": "code",
   "execution_count": 34,
   "metadata": {},
   "outputs": [],
   "source": [
    "from keras.regularizers import l1,l2"
   ]
  },
  {
   "cell_type": "code",
   "execution_count": 35,
   "metadata": {},
   "outputs": [],
   "source": [
    "## Introduce Regularisation\n",
    "model=Sequential()\n",
    "model.add(Dense(units=40,input_dim=784,kernel_regularizer=l1(0.001)))\n",
    "model.add(Activation('sigmoid'))\n",
    "model.add(Dense(units=10))\n",
    "model.add(Activation('softmax'))"
   ]
  },
  {
   "cell_type": "markdown",
   "metadata": {},
   "source": [
    "This is how we introduce regularization when we create the network architecture then at that point in time we tell what kind of regularization we’ll be working with. So, here I am putting in an L1 regularization. Now, this value is the value of our penalty term lambda. \n",
    "\n",
    "Now, if instead I wanted to do an L2 regularization then all I needed to do was put an L2 here instead of L1 here and put in a relevant value of lambda. Now, let’s compile our model."
   ]
  },
  {
   "cell_type": "code",
   "execution_count": 36,
   "metadata": {},
   "outputs": [],
   "source": [
    "model.compile(loss='categorical_crossentropy',optimizer='sgd',metrics=['accuracy'])"
   ]
  },
  {
   "cell_type": "markdown",
   "metadata": {},
   "source": [
    "Again since I am trying to create a multi layered perceptron classifier so in the last layer the activation is softmax and the loss that I will be using will be categorical crossentrophy and I am doing gradient descent which will be a batch gradient descent so hence I will use stochastic gradient descent. Let’s compile a model and let’s fit our model. This time I will be doing 30 epochs of a batch size of 1000 and my validation split will be 20 percent of my data."
   ]
  },
  {
   "cell_type": "code",
   "execution_count": 37,
   "metadata": {},
   "outputs": [
    {
     "name": "stdout",
     "output_type": "stream",
     "text": [
      "Train on 48000 samples, validate on 12000 samples\n",
      "Epoch 1/30\n",
      "48000/48000 [==============================] - 2s 46us/step - loss: 3.6662 - acc: 0.1111 - val_loss: 3.5584 - val_acc: 0.1588\n",
      "Epoch 2/30\n",
      "48000/48000 [==============================] - 2s 38us/step - loss: 3.4935 - acc: 0.2622 - val_loss: 3.4345 - val_acc: 0.3521\n",
      "Epoch 3/30\n",
      "48000/48000 [==============================] - 2s 39us/step - loss: 3.3845 - acc: 0.3914 - val_loss: 3.3359 - val_acc: 0.4346\n",
      "Epoch 4/30\n",
      "48000/48000 [==============================] - 2s 38us/step - loss: 3.2911 - acc: 0.4764 - val_loss: 3.2470 - val_acc: 0.5147\n",
      "Epoch 5/30\n",
      "48000/48000 [==============================] - 2s 39us/step - loss: 3.2056 - acc: 0.5417 - val_loss: 3.1649 - val_acc: 0.5580\n",
      "Epoch 6/30\n",
      "48000/48000 [==============================] - 2s 39us/step - loss: 3.1266 - acc: 0.5702 - val_loss: 3.0888 - val_acc: 0.5851\n",
      "Epoch 7/30\n",
      "48000/48000 [==============================] - 2s 39us/step - loss: 3.0533 - acc: 0.5901 - val_loss: 3.0182 - val_acc: 0.6021\n",
      "Epoch 8/30\n",
      "48000/48000 [==============================] - 2s 39us/step - loss: 2.9853 - acc: 0.6062 - val_loss: 2.9527 - val_acc: 0.6119\n",
      "Epoch 9/30\n",
      "48000/48000 [==============================] - 2s 39us/step - loss: 2.9221 - acc: 0.6185 - val_loss: 2.8917 - val_acc: 0.6198\n",
      "Epoch 10/30\n",
      "48000/48000 [==============================] - 2s 39us/step - loss: 2.8630 - acc: 0.6263 - val_loss: 2.8346 - val_acc: 0.6306\n",
      "Epoch 11/30\n",
      "48000/48000 [==============================] - 2s 39us/step - loss: 2.8078 - acc: 0.6352 - val_loss: 2.7811 - val_acc: 0.6417\n",
      "Epoch 12/30\n",
      "48000/48000 [==============================] - 2s 40us/step - loss: 2.7560 - acc: 0.6461 - val_loss: 2.7309 - val_acc: 0.6515\n",
      "Epoch 13/30\n",
      "48000/48000 [==============================] - 2s 39us/step - loss: 2.7072 - acc: 0.6562 - val_loss: 2.6837 - val_acc: 0.6570\n",
      "Epoch 14/30\n",
      "48000/48000 [==============================] - 2s 40us/step - loss: 2.6613 - acc: 0.6606 - val_loss: 2.6390 - val_acc: 0.6652\n",
      "Epoch 15/30\n",
      "48000/48000 [==============================] - 2s 41us/step - loss: 2.6178 - acc: 0.6694 - val_loss: 2.5966 - val_acc: 0.6729\n",
      "Epoch 16/30\n",
      "48000/48000 [==============================] - 2s 39us/step - loss: 2.5765 - acc: 0.6778 - val_loss: 2.5565 - val_acc: 0.6770\n",
      "Epoch 17/30\n",
      "48000/48000 [==============================] - 2s 42us/step - loss: 2.5373 - acc: 0.6804 - val_loss: 2.5182 - val_acc: 0.6832\n",
      "Epoch 18/30\n",
      "48000/48000 [==============================] - 2s 42us/step - loss: 2.4999 - acc: 0.6863 - val_loss: 2.4817 - val_acc: 0.6891\n",
      "Epoch 19/30\n",
      "48000/48000 [==============================] - 2s 40us/step - loss: 2.4643 - acc: 0.6911 - val_loss: 2.4468 - val_acc: 0.6927\n",
      "Epoch 20/30\n",
      "48000/48000 [==============================] - 2s 40us/step - loss: 2.4302 - acc: 0.6958 - val_loss: 2.4135 - val_acc: 0.6952\n",
      "Epoch 21/30\n",
      "48000/48000 [==============================] - 2s 39us/step - loss: 2.3974 - acc: 0.6980 - val_loss: 2.3815 - val_acc: 0.6991\n",
      "Epoch 22/30\n",
      "48000/48000 [==============================] - 2s 42us/step - loss: 2.3661 - acc: 0.7017 - val_loss: 2.3508 - val_acc: 0.7016\n",
      "Epoch 23/30\n",
      "48000/48000 [==============================] - 2s 40us/step - loss: 2.3360 - acc: 0.7050 - val_loss: 2.3212 - val_acc: 0.7048\n",
      "Epoch 24/30\n",
      "48000/48000 [==============================] - 2s 41us/step - loss: 2.3069 - acc: 0.7065 - val_loss: 2.2928 - val_acc: 0.7086\n",
      "Epoch 25/30\n",
      "48000/48000 [==============================] - 2s 40us/step - loss: 2.2790 - acc: 0.7085 - val_loss: 2.2654 - val_acc: 0.7116\n",
      "Epoch 26/30\n",
      "48000/48000 [==============================] - 2s 39us/step - loss: 2.2520 - acc: 0.7109 - val_loss: 2.2389 - val_acc: 0.7141\n",
      "Epoch 27/30\n",
      "48000/48000 [==============================] - 2s 40us/step - loss: 2.2259 - acc: 0.7133 - val_loss: 2.2132 - val_acc: 0.7157\n",
      "Epoch 28/30\n",
      "48000/48000 [==============================] - 2s 39us/step - loss: 2.2006 - acc: 0.7140 - val_loss: 2.1883 - val_acc: 0.7168\n",
      "Epoch 29/30\n",
      "48000/48000 [==============================] - 2s 40us/step - loss: 2.1761 - acc: 0.7155 - val_loss: 2.1643 - val_acc: 0.7181\n",
      "Epoch 30/30\n",
      "48000/48000 [==============================] - 2s 40us/step - loss: 2.1524 - acc: 0.7175 - val_loss: 2.1410 - val_acc: 0.7190\n"
     ]
    }
   ],
   "source": [
    "history=model.fit(x,y,epochs=30,batch_size=1000,validation_split=0.20)"
   ]
  },
  {
   "cell_type": "markdown",
   "metadata": {},
   "source": [
    "Now, the time the training process takes will depend upon for how many epochs you run your model, since I am running my model for 30 epochs it takes relatively longer time compared to the time it took when we ran our previous model in the previous demo. Now, the time taken will also depend upon the configuration of your machine.\n",
    "\n",
    "Let’s take a look at the training and validation accuracy\n"
   ]
  },
  {
   "cell_type": "code",
   "execution_count": 38,
   "metadata": {},
   "outputs": [
    {
     "data": {
      "image/png": "[encoded data removed]",
      "text/plain": [
       "<Figure size 432x288 with 1 Axes>"
      ]
     },
     "metadata": {},
     "output_type": "display_data"
    }
   ],
   "source": [
    "## Check for overfit\n",
    "# Plot training and validation accuracy\n",
    "plt.plot(history.history['acc'])\n",
    "plt.plot(history.history['val_acc'])\n",
    "plt.title('model accuracy')\n",
    "plt.ylabel('accuracy')\n",
    "plt.xlabel('epoch')\n",
    "plt.legend(['train', 'test'], loc='upper left')\n",
    "plt.show()"
   ]
  },
  {
   "cell_type": "markdown",
   "metadata": {},
   "source": [
    "You can see that both the test and train accuracy closely follow each other and there doesn’t seem to be any evidence of overfit in this case . We can also check our loss"
   ]
  },
  {
   "cell_type": "code",
   "execution_count": 39,
   "metadata": {},
   "outputs": [
    {
     "data": {
      "image/png": "[encoded data removed]",
      "text/plain": [
       "<Figure size 432x288 with 1 Axes>"
      ]
     },
     "metadata": {},
     "output_type": "display_data"
    }
   ],
   "source": [
    "# summarize history for loss\n",
    "plt.plot(history.history['loss'])\n",
    "plt.plot(history.history['val_loss'])\n",
    "plt.title('model loss')\n",
    "plt.ylabel('loss')\n",
    "plt.xlabel('epoch')\n",
    "plt.legend(['train', 'test'], loc='upper left')\n",
    "plt.show()"
   ]
  },
  {
   "cell_type": "markdown",
   "metadata": {},
   "source": [
    "the loss of my test and training data is also closely related, there’s not much difference here so there is no evidence of overfit."
   ]
  },
  {
   "cell_type": "markdown",
   "metadata": {},
   "source": [
    "Assume that I wanted to work with dropout layers to implement regularization then this is how the code would look like if I had to implement dropout."
   ]
  },
  {
   "cell_type": "code",
   "execution_count": 40,
   "metadata": {},
   "outputs": [],
   "source": [
    "## Another way to regularise is to use dropout layer\n",
    "from keras.layers import Dense, Activation, Dropout\n",
    "model=Sequential()\n",
    "## Create network architecture\n",
    "model.add(Dense(units=40,input_dim=784))\n",
    "model.add(Activation('sigmoid'))\n",
    "model.add(Dropout(0.2,seed=100)) ##drop 20% neurons randomly; switch it off\n",
    "model.add(Dense(units=10))\n",
    "model.add(Activation('softmax'))"
   ]
  },
  {
   "cell_type": "markdown",
   "metadata": {},
   "source": [
    "All I need to do is I need to add a dropout layer. Now, I am adding a dropout layer just before my output layer, so the dropouts will occur over my output layer. So, here I am saying that at least 20 percent of the neurons in the succeeding layer should be dropped randomly. So, let’s construct this architecture and let’s compile a model, again since this is a classifier so in the last layer I am using a softmax activation and I am using a categorical crossentrophy loss. Let’s run our model using the fit method. I will run this again for 30 epochs with the batch size of 1000."
   ]
  },
  {
   "cell_type": "code",
   "execution_count": 41,
   "metadata": {},
   "outputs": [],
   "source": [
    "model.compile(loss='categorical_crossentropy',optimizer='sgd',metrics=['accuracy'])"
   ]
  },
  {
   "cell_type": "code",
   "execution_count": 42,
   "metadata": {},
   "outputs": [
    {
     "name": "stdout",
     "output_type": "stream",
     "text": [
      "Train on 48000 samples, validate on 12000 samples\n",
      "Epoch 1/30\n",
      "48000/48000 [==============================] - 2s 47us/step - loss: 2.3345 - acc: 0.1471 - val_loss: 2.2208 - val_acc: 0.2155\n",
      "Epoch 2/30\n",
      "48000/48000 [==============================] - 2s 40us/step - loss: 2.2150 - acc: 0.1998 - val_loss: 2.1371 - val_acc: 0.3367\n",
      "Epoch 3/30\n",
      "48000/48000 [==============================] - 2s 40us/step - loss: 2.1402 - acc: 0.2497 - val_loss: 2.0699 - val_acc: 0.4402\n",
      "Epoch 4/30\n",
      "48000/48000 [==============================] - 2s 39us/step - loss: 2.0809 - acc: 0.2940 - val_loss: 2.0088 - val_acc: 0.5015\n",
      "Epoch 5/30\n",
      "48000/48000 [==============================] - 2s 41us/step - loss: 2.0217 - acc: 0.3393 - val_loss: 1.9512 - val_acc: 0.5413\n",
      "Epoch 6/30\n",
      "48000/48000 [==============================] - 2s 41us/step - loss: 1.9617 - acc: 0.3811 - val_loss: 1.8963 - val_acc: 0.5736\n",
      "Epoch 7/30\n",
      "48000/48000 [==============================] - 3s 58us/step - loss: 1.9119 - acc: 0.4069 - val_loss: 1.8441 - val_acc: 0.5962\n",
      "Epoch 8/30\n",
      "48000/48000 [==============================] - 2s 42us/step - loss: 1.8619 - acc: 0.4351 - val_loss: 1.7942 - val_acc: 0.6109\n",
      "Epoch 9/30\n",
      "48000/48000 [==============================] - 2s 42us/step - loss: 1.8149 - acc: 0.4558 - val_loss: 1.7466 - val_acc: 0.6228\n",
      "Epoch 10/30\n",
      "48000/48000 [==============================] - 2s 39us/step - loss: 1.7674 - acc: 0.4768 - val_loss: 1.7012 - val_acc: 0.6342\n",
      "Epoch 11/30\n",
      "48000/48000 [==============================] - 2s 40us/step - loss: 1.7280 - acc: 0.4860 - val_loss: 1.6581 - val_acc: 0.6427\n",
      "Epoch 12/30\n",
      "48000/48000 [==============================] - 2s 37us/step - loss: 1.6854 - acc: 0.5024 - val_loss: 1.6171 - val_acc: 0.6509\n",
      "Epoch 13/30\n",
      "48000/48000 [==============================] - 2s 41us/step - loss: 1.6474 - acc: 0.5120 - val_loss: 1.5780 - val_acc: 0.6589\n",
      "Epoch 14/30\n",
      "48000/48000 [==============================] - 2s 37us/step - loss: 1.6099 - acc: 0.5264 - val_loss: 1.5409 - val_acc: 0.6622\n",
      "Epoch 15/30\n",
      "48000/48000 [==============================] - 2s 39us/step - loss: 1.5759 - acc: 0.5348 - val_loss: 1.5057 - val_acc: 0.6671\n",
      "Epoch 16/30\n",
      "48000/48000 [==============================] - 2s 40us/step - loss: 1.5435 - acc: 0.5470 - val_loss: 1.4723 - val_acc: 0.6721\n",
      "Epoch 17/30\n",
      "48000/48000 [==============================] - 2s 38us/step - loss: 1.5113 - acc: 0.5543 - val_loss: 1.4407 - val_acc: 0.6744\n",
      "Epoch 18/30\n",
      "48000/48000 [==============================] - 2s 44us/step - loss: 1.4794 - acc: 0.5636 - val_loss: 1.4108 - val_acc: 0.6777\n",
      "Epoch 19/30\n",
      "48000/48000 [==============================] - 2s 39us/step - loss: 1.4545 - acc: 0.5649 - val_loss: 1.3824 - val_acc: 0.6807\n",
      "Epoch 20/30\n",
      "48000/48000 [==============================] - 2s 41us/step - loss: 1.4283 - acc: 0.5711 - val_loss: 1.3554 - val_acc: 0.6832\n",
      "Epoch 21/30\n",
      "48000/48000 [==============================] - 2s 39us/step - loss: 1.4023 - acc: 0.5821 - val_loss: 1.3298 - val_acc: 0.6872\n",
      "Epoch 22/30\n",
      "48000/48000 [==============================] - 3s 62us/step - loss: 1.3775 - acc: 0.5883 - val_loss: 1.3055 - val_acc: 0.6888\n",
      "Epoch 23/30\n",
      "48000/48000 [==============================] - 2s 49us/step - loss: 1.3549 - acc: 0.5916 - val_loss: 1.2824 - val_acc: 0.6922\n",
      "Epoch 24/30\n",
      "48000/48000 [==============================] - 2s 42us/step - loss: 1.3336 - acc: 0.5962 - val_loss: 1.2605 - val_acc: 0.6942\n",
      "Epoch 25/30\n",
      "48000/48000 [==============================] - 2s 40us/step - loss: 1.3110 - acc: 0.6024 - val_loss: 1.2396 - val_acc: 0.6967\n",
      "Epoch 26/30\n",
      "48000/48000 [==============================] - 2s 41us/step - loss: 1.2934 - acc: 0.6039 - val_loss: 1.2198 - val_acc: 0.6987\n",
      "Epoch 27/30\n",
      "48000/48000 [==============================] - 2s 40us/step - loss: 1.2727 - acc: 0.6098 - val_loss: 1.2009 - val_acc: 0.7001\n",
      "Epoch 28/30\n",
      "48000/48000 [==============================] - 2s 41us/step - loss: 1.2581 - acc: 0.6106 - val_loss: 1.1830 - val_acc: 0.7024\n",
      "Epoch 29/30\n",
      "48000/48000 [==============================] - 2s 40us/step - loss: 1.2385 - acc: 0.6201 - val_loss: 1.1658 - val_acc: 0.7035\n",
      "Epoch 30/30\n",
      "48000/48000 [==============================] - 2s 41us/step - loss: 1.2216 - acc: 0.6221 - val_loss: 1.1494 - val_acc: 0.7049\n"
     ]
    }
   ],
   "source": [
    "history=model.fit(x,y,epochs=30,batch_size=1000,validation_split=0.2)"
   ]
  },
  {
   "cell_type": "markdown",
   "metadata": {},
   "source": [
    "look at the training and validation accuracy and also look at the loss."
   ]
  },
  {
   "cell_type": "code",
   "execution_count": 43,
   "metadata": {},
   "outputs": [
    {
     "data": {
      "image/png": "[encoded data removed]",
      "text/plain": [
       "<Figure size 432x288 with 1 Axes>"
      ]
     },
     "metadata": {},
     "output_type": "display_data"
    }
   ],
   "source": [
    "## Check for overfit\n",
    "# Plot training and validation accuracy\n",
    "plt.plot(history.history['acc'])\n",
    "plt.plot(history.history['val_acc'])\n",
    "plt.title('model accuracy')\n",
    "plt.ylabel('accuracy')\n",
    "plt.xlabel('epoch')\n",
    "plt.legend(['train', 'test'], loc='upper left')\n",
    "plt.show()"
   ]
  },
  {
   "cell_type": "code",
   "execution_count": 44,
   "metadata": {},
   "outputs": [
    {
     "data": {
      "image/png": "[encoded data removed]",
      "text/plain": [
       "<Figure size 432x288 with 1 Axes>"
      ]
     },
     "metadata": {},
     "output_type": "display_data"
    }
   ],
   "source": [
    "# summarize history for loss\n",
    "plt.plot(history.history['loss'])\n",
    "plt.plot(history.history['val_loss'])\n",
    "plt.title('model loss')\n",
    "plt.ylabel('loss')\n",
    "plt.xlabel('epoch')\n",
    "plt.legend(['train', 'test'], loc='upper left')\n",
    "plt.show()"
   ]
  },
  {
   "cell_type": "markdown",
   "metadata": {},
   "source": [
    "if we look at the loss curve, you can see that the test set has a lower loss compared to the training set and the difference in this loss is not increasing as the number of epochs increase, again suggesting that there is no overfit happening here."
   ]
  },
  {
   "cell_type": "markdown",
   "metadata": {},
   "source": [
    "### GridSearchCV"
   ]
  },
  {
   "cell_type": "markdown",
   "metadata": {},
   "source": [
    "In this code demo we’ll talk about how we can do grid search using Scikit Learn interface to keras."
   ]
  },
  {
   "cell_type": "markdown",
   "metadata": {},
   "source": [
    "Now to do grid search, we will make use of keras interface with Scikit Learn and if you remember, in Scikit Learn we have GridSearchCV option to do grid search. So to connect keras to GridSearchCV, we will have to import wrappers.scikitlearn module and within this module we have a kerasClassifier class."
   ]
  },
  {
   "cell_type": "code",
   "execution_count": 45,
   "metadata": {},
   "outputs": [],
   "source": [
    "from keras.wrappers.scikit_learn import KerasClassifier"
   ]
  },
  {
   "cell_type": "markdown",
   "metadata": {},
   "source": [
    "Now, to create an interface with GridSearchCV in Scikit Learn, we first need to create a build function. "
   ]
  },
  {
   "cell_type": "code",
   "execution_count": 46,
   "metadata": {},
   "outputs": [],
   "source": [
    "def create_model():\n",
    "    ## Create network architecture\n",
    "    model=Sequential()\n",
    "    model.add(Dense(units=24,input_dim=784))\n",
    "    model.add(Activation('sigmoid'))\n",
    "    model.add(Dense(units=10))\n",
    "    model.add(Activation('softmax'))\n",
    "    ## Compile Model\n",
    "    model.compile(loss='categorical_crossentropy',optimizer='sgd',metrics=['accuracy'])\n",
    "    return model"
   ]
  },
  {
   "cell_type": "markdown",
   "metadata": {},
   "source": [
    "Now build function is nothing, all that we are doing is, we are creating our network architecture inside a function and returning the model object. So if you compare this piece of code with the previous two demos, you would realize that all we have done is we have encapsulated the network architecture within a Python function"
   ]
  },
  {
   "cell_type": "markdown",
   "metadata": {},
   "source": [
    "After this is done we will make use of the keras Classifier class to make sure that the model object that we’ll now obtain will be able to interface with the GridSearchCV of Scikit Learn. So we will need to provide a build function which we’ve already done here and some other parameters such as for how many epochs we want to run this model"
   ]
  },
  {
   "cell_type": "code",
   "execution_count": 47,
   "metadata": {},
   "outputs": [],
   "source": [
    "## Create Model\n",
    "model=KerasClassifier(build_fn=create_model,verbose=0,epochs=10)"
   ]
  },
  {
   "cell_type": "markdown",
   "metadata": {},
   "source": [
    "By setting verbose 0, 1 or 2 you just say how do you want to 'see' the training progress for each epoch.\n",
    "0 shows nothing. 1 shows \"=====\". 2 shows epoch info\n",
    "\n",
    "Now for the purpose of this demo, I am doing a grid search on the batch size. So I will create a parameter grid, just like we used to create a parameter grid with Scikit Learn"
   ]
  },
  {
   "cell_type": "code",
   "execution_count": 48,
   "metadata": {},
   "outputs": [],
   "source": [
    "## Grid Definition\n",
    "batch_size=[500,1000]\n",
    "param_grid={'batch_size':batch_size}"
   ]
  },
  {
   "cell_type": "code",
   "execution_count": 49,
   "metadata": {},
   "outputs": [],
   "source": [
    "from sklearn.model_selection import GridSearchCV"
   ]
  },
  {
   "cell_type": "markdown",
   "metadata": {},
   "source": [
    "I will specify my model, which is the Multi Layered Perceptron model and I’ll also specify the parameter grid"
   ]
  },
  {
   "cell_type": "code",
   "execution_count": 50,
   "metadata": {},
   "outputs": [],
   "source": [
    "grid=GridSearchCV(estimator=model,param_grid=param_grid)\n",
    "grid_result=grid.fit(x,y)"
   ]
  },
  {
   "cell_type": "markdown",
   "metadata": {},
   "source": [
    "Now this grid search may take some time. After the grid search is done, we will take a look at the best parameters"
   ]
  },
  {
   "cell_type": "code",
   "execution_count": 51,
   "metadata": {},
   "outputs": [
    {
     "data": {
      "text/plain": [
       "{'batch_size': 500}"
      ]
     },
     "execution_count": 51,
     "metadata": {},
     "output_type": "execute_result"
    }
   ],
   "source": [
    "grid_result.best_params_"
   ]
  },
  {
   "cell_type": "code",
   "execution_count": 52,
   "metadata": {},
   "outputs": [
    {
     "data": {
      "text/plain": [
       "0.6317833354075749"
      ]
     },
     "execution_count": 52,
     "metadata": {},
     "output_type": "execute_result"
    }
   ],
   "source": [
    "grid_result.best_score_"
   ]
  },
  {
   "cell_type": "markdown",
   "metadata": {},
   "source": [
    "The best parameter turned out to be a batch size of 500. Remember we were doing a grid search on batch size and we had two options. Now you can make this grid larger but remember this process is computationally very expensive. So the more the parameters that you have to do a grid search on, the more time it will take to compute."
   ]
  },
  {
   "cell_type": "markdown",
   "metadata": {},
   "source": [
    "Now let’s say I wanted to do a grid search on the number of neurons in the first layer. Then I will have to specify a different build function."
   ]
  },
  {
   "cell_type": "code",
   "execution_count": 53,
   "metadata": {},
   "outputs": [],
   "source": [
    "## Grid Search in the number of neurons\n",
    "def create_model(neurons=1):\n",
    "    ## Create network architecture\n",
    "    model=Sequential()\n",
    "    model.add(Dense(units=neurons,input_dim=784))\n",
    "    model.add(Activation('sigmoid'))         \n",
    "    model.add(Dense(units=10))\n",
    "    model.add(Activation('softmax'))\n",
    "    ## Compile Model\n",
    "    model.compile(loss='categorical_crossentropy',optimizer='sgd',metrics=['accuracy'])\n",
    "    return model"
   ]
  },
  {
   "cell_type": "markdown",
   "metadata": {},
   "source": [
    "Now since I am now doing grid search on a parameter that is part of a neural network architecture, I have to specify an input to this build function. Now this input will be the parameter on which I want to do a grid search. Now in the first layer I do not specify how many neurons I want to work with. I am simply specifying that I want to work with number of neurons = neurons which has been instantiated as 1, but once we create a kerasClassifier object out of this, the GridSearchCV would understand that it will have to provide the grid of neuron values that I will specify to this create model function in this manner and do a grid search on it."
   ]
  },
  {
   "cell_type": "code",
   "execution_count": 54,
   "metadata": {},
   "outputs": [],
   "source": [
    "## Create Model\n",
    "model=KerasClassifier(build_fn=create_model,verbose=0,epochs=10,batch_size=500)"
   ]
  },
  {
   "cell_type": "markdown",
   "metadata": {},
   "source": [
    "I want to do a grid search over number of neurons in the first layer being 20 or 24."
   ]
  },
  {
   "cell_type": "code",
   "execution_count": 55,
   "metadata": {},
   "outputs": [],
   "source": [
    "## Grid Definition\n",
    "param_grid={'neurons':[20,24]}\n",
    "## Training\n",
    "grid=GridSearchCV(estimator=model,param_grid=param_grid)\n",
    "grid_result=grid.fit(x,y)"
   ]
  },
  {
   "cell_type": "code",
   "execution_count": 56,
   "metadata": {},
   "outputs": [
    {
     "data": {
      "text/plain": [
       "{'neurons': 24}"
      ]
     },
     "execution_count": 56,
     "metadata": {},
     "output_type": "execute_result"
    }
   ],
   "source": [
    "grid_result.best_params_"
   ]
  },
  {
   "cell_type": "code",
   "execution_count": 57,
   "metadata": {},
   "outputs": [
    {
     "data": {
      "text/plain": [
       "0.6593999976913134"
      ]
     },
     "execution_count": 57,
     "metadata": {},
     "output_type": "execute_result"
    }
   ],
   "source": [
    "grid_result.best_score_"
   ]
  },
  {
   "cell_type": "markdown",
   "metadata": {},
   "source": [
    "So it turns out, out of 20 or 24 neurons, 24 is the appropriate number of neurons in the first layer of this neural network architecture. Let’s look at the score obtained on this selected model. "
   ]
  },
  {
   "cell_type": "code",
   "execution_count": null,
   "metadata": {},
   "outputs": [],
   "source": []
  }
 ],
 "metadata": {
  "kernelspec": {
   "display_name": "Python 3",
   "language": "python",
   "name": "python3"
  },
  "language_info": {
   "codemirror_mode": {
    "name": "ipython",
    "version": 3
   },
   "file_extension": ".py",
   "mimetype": "text/x-python",
   "name": "python",
   "nbconvert_exporter": "python",
   "pygments_lexer": "ipython3",
   "version": "3.6.5"
  }
 },
 "nbformat": 4,
 "nbformat_minor": 2
}
