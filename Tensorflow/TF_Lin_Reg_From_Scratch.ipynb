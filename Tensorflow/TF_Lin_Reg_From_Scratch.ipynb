{
 "cells": [
  {
   "cell_type": "markdown",
   "metadata": {
    "id": "Ku_7CTHnoUgm"
   },
   "source": [
    "**The Concept**\n",
    "\n",
    "Linear regression attempts to model the relation of dependent and independent variables by fitting a linear equation. \n",
    "\n",
    "Suppose we have the data of quiz scores and the length of study hours of 100 students as shown here:\n",
    "\n",
    "![alt text](https://miro.medium.com/max/691/1*fDfhpbBM67W-wPsyfX886g.png)\n",
    "\n",
    "By visually inspecting the scatter plot, we can easily draw a line with the equation *y=mx+b* , where \"m\" and \"b\" are the slope and y-intercept, respectively. These can be seen on the figure as roughly 40 and 0 for m and b respectively."
   ]
  },
  {
   "cell_type": "markdown",
   "metadata": {
    "id": "l1Fr0VGBoOHb"
   },
   "source": [
    "Let’s draw a line where m=40 and b=0.\n",
    "\n",
    "![alt text](https://miro.medium.com/max/696/1*J0dPncPRUdNQxgs7TgL60g.png)\n",
    "\n",
    "The *y=40x* line looks good! \n",
    "\n",
    "We can then estimate that a student’s score is just 40 multiplied by the number of hours a student studied."
   ]
  },
  {
   "cell_type": "markdown",
   "metadata": {
    "id": "gW65Qui4sv6w"
   },
   "source": [
    "Linear regression works exactly like this except that it cannot visually check the slope and y-intercept from the scatter plot. What it does instead is to guess the slope and y-intercept first, then measure how good its guess is. If it’s not good enough then it adjusts the slope and y-intercept until the line fits the data well.\n",
    "\n",
    "Linear regression is a three-step algorithm:\n",
    "\n",
    "1.   Initialize the parameters of a linear equation (first guess of slope and y-intercept).\n",
    "2.   Measure the goodness of fit based on some function.\n",
    "1.   Adjust the parameters until the measure in step 2 looks good.\n",
    "\n"
   ]
  },
  {
   "cell_type": "markdown",
   "metadata": {
    "id": "v1UJsPdWtc6B"
   },
   "source": [
    "**1.** **Linear Equation and Initialization**\n",
    "\n",
    "Now that we built our intuition around linear regression, let’s talk about each of the step mathematically.\n",
    "\n",
    "The first step in linear regression model is to initialize a linear equation; yes, we’ll use y=mx+b but we have to generalize our approach. \n",
    "The reason for such is that we might be facing data with multiple independent variables. \n",
    "\n",
    "Think of it as adding another variable in our Quiz Score data such as the amount of coffee consumed while studying. Having this coffee dimension will make the linear equation look like this: *y = m1x1 + m2x2 + b* , where m1 and m2 are slopes for the study hours and coffee dimensions respectively, and x1 and x2 are the study hours and coffee variables.\n",
    "\n",
    "\n",
    "We’ll use dot product to represent the product of matrices, m and x, instead of writing a longer equation for every new variable. Note that it is also valid to use the term tensor since it is the generalization of a matrix. The linear equation should be written as **y = m⋅x + b**.\n",
    "\n",
    "There are many ways to initialize the parameters of the equation, the most common ones are using random values, zeros, or ones. You are free to use any type of initialization, this choice will determine how fast your learning algorithm terminates. In the next iteration of the algorithm, these parameters will be updated based on some function that we'll discuss in step 2.\n"
   ]
  },
  {
   "cell_type": "markdown",
   "metadata": {
    "id": "cIJJGqeCtdJ2"
   },
   "source": [
    "**2. Loss Function**\n",
    "\n",
    "Now let’s say the initial values you set for m and b are ones, so your equation is `y = 1x + 1` .\n",
    "\n",
    "The initial predictions will look like the orange dots in the figure below. It’s obviously a very bad prediction, we need a number to quantify how bad or good these predictions are.\n",
    "\n",
    "![alt text](https://miro.medium.com/max/691/1*X-1q5DK6xYxBrWxNjTdelA.png)\n",
    "\n",
    "There are many ways to measure the goodness of our prediction, we’ll use one of them called mean squared error (MSE). In this context, error means difference, so MSE literally means taking the square of the difference between actual and predicted values, then take the average. It is written mathematically as:\n",
    "\n",
    "![alt text](https://miro.medium.com/max/591/0*L2cG_FchQ00t06yk.png)\n",
    "\n",
    "Functions like MSE are called loss function or objective function. These are functions that the algorithm wants to minimize. \n",
    "\n",
    "If our linear regression model perfectly predicts the quiz scores, its MSE will be equal to 0. So in every iteration of the algorithm, it should update the parameters such that the MSE comes closer to 0 without overfitting. "
   ]
  },
  {
   "cell_type": "markdown",
   "metadata": {
    "id": "EtNU7Y0Q2Zwb"
   },
   "source": [
    "**3. Gradient Descent**\n",
    "\n",
    "Sure we can keep on guessing the parameters until we get close enough to zero MSE but it will take time and effort — gradient descent will do this for us. \n",
    "\n",
    "Gradient descent is one of the building blocks of artificial intelligence. Algorithms like gradient descent allows learning algorithms to learn without being told so explicitly. \n",
    "\n",
    "Gradient descent is an optimization algorithm that we will use to minimize our loss function (MSE in this case). It does so by updating the parameters with small changes in each iteration, this change can be big too depending on your preference (learning rate).\n",
    "\n",
    "In each new iteration, the updated parameters will be\n",
    "\n",
    " `p_new = p_old - (l*dL/dp)`\n",
    "\n",
    "where p is the parameter which could be the slope m, or the y-intercept b. \n",
    "\n",
    "The new variables, l and dL/dp, are the learning rate and partial derivative of the loss function with respect to the parameter.\n",
    "\n",
    "With enough iterations, the slope and y-intercept will get closer to 40 and 0, the values we consider to be “close enough” to fit to our data. As you may have observed, if you happen to initialize the parameters close to 40 and 0, say 35 and 0.5, then the algorithm will take less iterations."
   ]
  },
  {
   "cell_type": "markdown",
   "metadata": {
    "id": "ftbffWiA3Riq"
   },
   "source": [
    "**Stopping Criteria**\n",
    "\n",
    "Here are some of the possible ways to terminate the algorithm:\n",
    "\n",
    "\n",
    "1.   Terminate the algorithm once a specified number of iterations is satisfied.\n",
    "2.   Terminate the algorithm once a specified MSE is satisfied.\n",
    "1.   Terminate the algorithm if the MSE does not improve in the next iteration. You can specify a precision such as 0.001, if the difference between two successive MSEs is less than this precision, then stop the algorithm.\n"
   ]
  },
  {
   "cell_type": "markdown",
   "metadata": {
    "id": "vOBWT608ntcc"
   },
   "source": [
    "The following code demo will walk you through how to implement linear regression from scratch using only Tensorflow.\n",
    "\n",
    "Here, we’ll follow the three-step approach to linear regression algorithm discussed above and terminate the algorithm using stopping criteria 1."
   ]
  },
  {
   "cell_type": "markdown",
   "metadata": {
    "id": "70N-yJ3f4Hm_"
   },
   "source": [
    "**Import libraries**\n",
    "\n",
    "These are the only libraries we’ll need for this demo - TensorFlow for building the algorithm, pyplot for visualization purposes, and boston_housing as our toy dataset."
   ]
  },
  {
   "cell_type": "code",
   "execution_count": 1,
   "metadata": {
    "executionInfo": {
     "elapsed": 3103,
     "status": "ok",
     "timestamp": 1635853030787,
     "user": {
      "displayName": "Swastik Das",
      "photoUrl": "https://lh3.googleusercontent.com/a-/AOh14Gi1TarlztnBdahX5CCHNOVZTu3KaYLMf6IWKG9R=s64",
      "userId": "12684891963990309492"
     },
     "user_tz": -330
    },
    "id": "h8d75F9G3-zd"
   },
   "outputs": [],
   "source": [
    "import tensorflow as tf\n",
    "import matplotlib.pyplot as plt\n",
    "from tensorflow.keras.datasets import boston_housing"
   ]
  },
  {
   "cell_type": "markdown",
   "metadata": {
    "id": "tzn_jDjW47Sm"
   },
   "source": [
    "**1. Initialize a linear equation**\n",
    "\n",
    "Let’s start off by creating a SimpleLinearRegression class with initialization options."
   ]
  },
  {
   "cell_type": "code",
   "execution_count": 2,
   "metadata": {
    "executionInfo": {
     "elapsed": 3,
     "status": "ok",
     "timestamp": 1635853034149,
     "user": {
      "displayName": "Swastik Das",
      "photoUrl": "https://lh3.googleusercontent.com/a-/AOh14Gi1TarlztnBdahX5CCHNOVZTu3KaYLMf6IWKG9R=s64",
      "userId": "12684891963990309492"
     },
     "user_tz": -330
    },
    "id": "qn-Q-i5U4ZD4"
   },
   "outputs": [],
   "source": [
    "class SimpleLinearRegression:\n",
    "    def __init__(self, initializer='random'):\n",
    "        if initializer=='ones':\n",
    "            self.var = 1.\n",
    "        elif initializer=='zeros':\n",
    "            self.var = 0.\n",
    "        elif initializer=='random':\n",
    "            self.var = tf.random.uniform(shape=[], minval=0., maxval=1.)\n",
    "            \n",
    "        self.m = tf.Variable(1., shape=tf.TensorShape(None))\n",
    "        self.b = tf.Variable(self.var)"
   ]
  },
  {
   "cell_type": "markdown",
   "metadata": {
    "id": "UfR7zieU5xJI"
   },
   "source": [
    "Here the class is specified with three initialization options - ones, zeros, and random (default). \n",
    "\n",
    "`tf.random.uniform` will generate a tensor with random values from uniform distribution within the range `minval` and `maxval` with shape `shape`. \n",
    "\n",
    "We've defined m as a variable with no particular shape so it can be flexible enough to accept any number of independent variables, this can be done by setting `shape = tf.TensorShape(None)`."
   ]
  },
  {
   "cell_type": "markdown",
   "metadata": {
    "id": "VRfghEp57dI5"
   },
   "source": [
    "**2. Loss Function**\n",
    "\n",
    "Next is to implement our loss function, MSE. Following is the implementation of the function in TensorFlow:"
   ]
  },
  {
   "cell_type": "code",
   "execution_count": 3,
   "metadata": {
    "executionInfo": {
     "elapsed": 1107,
     "status": "ok",
     "timestamp": 1635853041159,
     "user": {
      "displayName": "Swastik Das",
      "photoUrl": "https://lh3.googleusercontent.com/a-/AOh14Gi1TarlztnBdahX5CCHNOVZTu3KaYLMf6IWKG9R=s64",
      "userId": "12684891963990309492"
     },
     "user_tz": -330
    },
    "id": "G3jOU5-a5s4k"
   },
   "outputs": [],
   "source": [
    "def mse(self, true, predicted):\n",
    "        return tf.reduce_mean(tf.square(true-predicted))"
   ]
  },
  {
   "cell_type": "markdown",
   "metadata": {
    "id": "aOC5vHa97xgg"
   },
   "source": [
    "This is fairly easy to write in Tensorflow. \n",
    "\n",
    "First you take the difference of `true and predicted value`, use `tf.square` to square the differences then get the mean of the squared differences using `tf.reduce_mean` .\n",
    "\n",
    "This function accepts true and predicted values where the former comes from the data itself, but the latter have to be computed."
   ]
  },
  {
   "cell_type": "code",
   "execution_count": 4,
   "metadata": {
    "executionInfo": {
     "elapsed": 646,
     "status": "ok",
     "timestamp": 1635853043868,
     "user": {
      "displayName": "Swastik Das",
      "photoUrl": "https://lh3.googleusercontent.com/a-/AOh14Gi1TarlztnBdahX5CCHNOVZTu3KaYLMf6IWKG9R=s64",
      "userId": "12684891963990309492"
     },
     "user_tz": -330
    },
    "id": "DjC2EQgQ7oHj"
   },
   "outputs": [],
   "source": [
    "def predict(self, x):\n",
    "        return tf.reduce_sum(self.m * x, 1) + self.b"
   ]
  },
  {
   "cell_type": "markdown",
   "metadata": {
    "id": "ujTkPsTD8JtC"
   },
   "source": [
    "The predict method is done by simplifying the linear equation. \n",
    "\n",
    "First we take the dot product of `m (slope tensor)` and `x (feature tensor)` and add the `y-intercept b`. \n",
    "\n",
    "We have to specify the axis to which the reduction in `reduction_sum` will be computed to 1 , otherwise it will reduce the tensor to a single sum."
   ]
  },
  {
   "cell_type": "markdown",
   "metadata": {
    "id": "lwqTpcoj8rOO"
   },
   "source": [
    "**3. Updating the parameters**\n"
   ]
  },
  {
   "cell_type": "code",
   "execution_count": 5,
   "metadata": {
    "executionInfo": {
     "elapsed": 427,
     "status": "ok",
     "timestamp": 1635853048482,
     "user": {
      "displayName": "Swastik Das",
      "photoUrl": "https://lh3.googleusercontent.com/a-/AOh14Gi1TarlztnBdahX5CCHNOVZTu3KaYLMf6IWKG9R=s64",
      "userId": "12684891963990309492"
     },
     "user_tz": -330
    },
    "id": "KeN0Xk0B8FQx"
   },
   "outputs": [],
   "source": [
    "def update(self, X, y, learning_rate):\n",
    "        with tf.GradientTape(persistent=True) as g:\n",
    "            loss = self.mse(y, self.predict(X))\n",
    "            \n",
    "        print(\"Loss: \", loss)\n",
    "\n",
    "        dy_dm = g.gradient(loss, self.m)\n",
    "        dy_db = g.gradient(loss, self.b)\n",
    "        \n",
    "        self.m.assign_sub(learning_rate * dy_dm)\n",
    "        self.b.assign_sub(learning_rate * dy_db)"
   ]
  },
  {
   "cell_type": "markdown",
   "metadata": {
    "id": "QVBVuCtn89-m"
   },
   "source": [
    "We need gradient descent to update our parameters for every iteration. \n",
    "\n",
    "There’s no need to create this algorithm from scratch as Tensorflow has a built in function for this `tf.GradientTape`. By default, GradientTape has persistent set to False which means at most one call can be made to the gradient() method in this object.\n",
    "\n",
    "Since we are using this to calculate for two gradients (one for m and another for b ) for every iteration, we have to set this to True. Then we specify the loss function to which gradients will be computed, in this case mse with parameters `y and self.predict(X)` which represents true and predicted values respectively.\n",
    "\n",
    "Each parameter will be updated by subtracting the product of learning rate and the gradient of the parameter."
   ]
  },
  {
   "cell_type": "markdown",
   "metadata": {
    "id": "6hDWmGwWBA-6"
   },
   "source": [
    "`p_new = p_old - (l*dL/dp)`\n",
    "\n",
    "Learning is a hyperparameter and should be specified when training the linear regressor. The gradient, `dL/dp`, is computed using the gradient() method, which accepts the loss function and the parameter. This operation just solves for the partial derivative of the loss function with respect to the parameter. \n",
    "\n",
    "We have to compute for two gradients in each iteration, one for m and b .\n",
    "To update the parameter with the new value, which is just the `old value minus l*dL/dp`, we simply use `assign_sub() method of tf.Variable`."
   ]
  },
  {
   "cell_type": "markdown",
   "metadata": {
    "id": "EFQhsHRpPJke"
   },
   "source": [
    "**Train method**\n",
    "\n",
    "Let’s put everything together in a `train` method."
   ]
  },
  {
   "cell_type": "code",
   "execution_count": 6,
   "metadata": {
    "executionInfo": {
     "elapsed": 443,
     "status": "ok",
     "timestamp": 1635853053921,
     "user": {
      "displayName": "Swastik Das",
      "photoUrl": "https://lh3.googleusercontent.com/a-/AOh14Gi1TarlztnBdahX5CCHNOVZTu3KaYLMf6IWKG9R=s64",
      "userId": "12684891963990309492"
     },
     "user_tz": -330
    },
    "id": "K6QKzfPP86-e"
   },
   "outputs": [],
   "source": [
    "def train(self, X, y, learning_rate=0.01, epochs=5):\n",
    "        \n",
    "        if len(X.shape)==1:\n",
    "            X=tf.reshape(X,[X.shape[0],1])\n",
    "        \n",
    "        self.m.assign([self.var]*X.shape[-1])\n",
    "        \n",
    "        for i in range(epochs):\n",
    "            print(\"Epoch: \", i)\n",
    "            \n",
    "            self.update(X, y, learning_rate)"
   ]
  },
  {
   "cell_type": "markdown",
   "metadata": {
    "id": "Mzt1b9cqPWD9"
   },
   "source": [
    "First thing that it does is to check if the data only contain a single independent variable; if it is, then it will reshape it to become a 2D tensor.\n",
    "\n",
    "`self.m.assign([self.var]*X.shape[-1])` will initialize m with initial values we set during initialization with a shape following the number of independent variables the data have.\n",
    "\n",
    "The stopping criteria of our algorithm is the number of iteration, defined by epoch . For each iteration, it will call the update method."
   ]
  },
  {
   "cell_type": "code",
   "execution_count": 7,
   "metadata": {
    "executionInfo": {
     "elapsed": 430,
     "status": "ok",
     "timestamp": 1635853057455,
     "user": {
      "displayName": "Swastik Das",
      "photoUrl": "https://lh3.googleusercontent.com/a-/AOh14Gi1TarlztnBdahX5CCHNOVZTu3KaYLMf6IWKG9R=s64",
      "userId": "12684891963990309492"
     },
     "user_tz": -330
    },
    "id": "NGodBmIDPP8j"
   },
   "outputs": [],
   "source": [
    "# The entire code of the linear regressor\n",
    "\n",
    "class SimpleLinearRegression:\n",
    "    def __init__(self, initializer='random'):\n",
    "        if initializer=='ones':\n",
    "            self.var = 1.\n",
    "        elif initializer=='zeros':\n",
    "            self.var = 0.\n",
    "        elif initializer=='random':\n",
    "            selfx.var = tf.random.uniform(shape=[], minval=0., maxval=1.)\n",
    "            \n",
    "        self.m = tf.Variable(1., shape=tf.TensorShape(None))\n",
    "        self.b = tf.Variable(self.var)\n",
    "        \n",
    "    def predict(self, x):\n",
    "        return tf.reduce_sum(self.m * x, 1) + self.b\n",
    "    \n",
    "    def mse(self, true, predicted):\n",
    "        return tf.reduce_mean(tf.square(true-predicted))\n",
    "    \n",
    "    def update(self, X, y, learning_rate):\n",
    "        with tf.GradientTape(persistent=True) as g:\n",
    "            loss = self.mse(y, self.predict(X))\n",
    "            \n",
    "        print(\"Loss: \", loss)\n",
    "\n",
    "        dy_dm = g.gradient(loss, self.m)\n",
    "        dy_db = g.gradient(loss, self.b)\n",
    "        \n",
    "        self.m.assign_sub(learning_rate * dy_dm)\n",
    "        self.b.assign_sub(learning_rate * dy_db)\n",
    "    \n",
    "    def train(self, X, y, learning_rate=0.01, epochs=5):\n",
    "        \n",
    "        if len(X.shape)==1:\n",
    "            X=tf.reshape(X,[X.shape[0],1])\n",
    "        \n",
    "        self.m.assign([self.var]*X.shape[-1])\n",
    "        \n",
    "        for i in range(epochs):\n",
    "            print(\"Epoch: \", i)\n",
    "            \n",
    "            self.update(X, y, learning_rate)"
   ]
  },
  {
   "cell_type": "markdown",
   "metadata": {
    "id": "sZ99nSu0QBvf"
   },
   "source": [
    "**Testing our algorithm**\n",
    "\n",
    "It’s time to test our algorithm using the Boston Housing dataset.\n",
    "Load the dataset using keras.datasets :"
   ]
  },
  {
   "cell_type": "code",
   "execution_count": 8,
   "metadata": {
    "colab": {
     "base_uri": "https://localhost:8080/"
    },
    "executionInfo": {
     "elapsed": 8,
     "status": "ok",
     "timestamp": 1635853060617,
     "user": {
      "displayName": "Swastik Das",
      "photoUrl": "https://lh3.googleusercontent.com/a-/AOh14Gi1TarlztnBdahX5CCHNOVZTu3KaYLMf6IWKG9R=s64",
      "userId": "12684891963990309492"
     },
     "user_tz": -330
    },
    "id": "dVImbxCiP9mm",
    "outputId": "66e6ff22-4fd3-49d1-b279-434054ebc957"
   },
   "outputs": [
    {
     "name": "stdout",
     "output_type": "stream",
     "text": [
      "Downloading data from https://storage.googleapis.com/tensorflow/tf-keras-datasets/boston_housing.npz\n",
      "57344/57026 [==============================] - 0s 0us/step\n",
      "65536/57026 [==================================] - 0s 0us/step\n"
     ]
    }
   ],
   "source": [
    "(x_train, y_train), (x_test, y_test) = boston_housing.load_data()"
   ]
  },
  {
   "cell_type": "code",
   "execution_count": 9,
   "metadata": {
    "executionInfo": {
     "elapsed": 424,
     "status": "ok",
     "timestamp": 1635853064228,
     "user": {
      "displayName": "Swastik Das",
      "photoUrl": "https://lh3.googleusercontent.com/a-/AOh14Gi1TarlztnBdahX5CCHNOVZTu3KaYLMf6IWKG9R=s64",
      "userId": "12684891963990309492"
     },
     "user_tz": -330
    },
    "id": "CxJKACLCQLXV"
   },
   "outputs": [],
   "source": [
    "# Standardize the data:\n",
    "\n",
    "mean_label = y_train.mean(axis=0)\n",
    "std_label = y_train.std(axis=0)\n",
    "mean_feat = x_train.mean(axis=0)\n",
    "std_feat = x_train.std(axis=0)"
   ]
  },
  {
   "cell_type": "code",
   "execution_count": 11,
   "metadata": {
    "executionInfo": {
     "elapsed": 398,
     "status": "ok",
     "timestamp": 1635853080781,
     "user": {
      "displayName": "Swastik Das",
      "photoUrl": "https://lh3.googleusercontent.com/a-/AOh14Gi1TarlztnBdahX5CCHNOVZTu3KaYLMf6IWKG9R=s64",
      "userId": "12684891963990309492"
     },
     "user_tz": -330
    },
    "id": "oLacrMihQYWI"
   },
   "outputs": [],
   "source": [
    "x_train_norm = (x_train-mean_feat)/std_feat\n",
    "y_train_norm = (y_train-mean_label)/std_label"
   ]
  },
  {
   "cell_type": "code",
   "execution_count": 12,
   "metadata": {
    "colab": {
     "base_uri": "https://localhost:8080/"
    },
    "executionInfo": {
     "elapsed": 431,
     "status": "ok",
     "timestamp": 1635853083076,
     "user": {
      "displayName": "Swastik Das",
      "photoUrl": "https://lh3.googleusercontent.com/a-/AOh14Gi1TarlztnBdahX5CCHNOVZTu3KaYLMf6IWKG9R=s64",
      "userId": "12684891963990309492"
     },
     "user_tz": -330
    },
    "id": "hAgJHJLWRFha",
    "outputId": "7a118695-f105-47b8-94b3-e508a2900ac2"
   },
   "outputs": [
    {
     "name": "stdout",
     "output_type": "stream",
     "text": [
      "Epoch:  0\n",
      "Loss:  tf.Tensor(1.0, shape=(), dtype=float32)\n",
      "Epoch:  1\n",
      "Loss:  tf.Tensor(0.52037114, shape=(), dtype=float32)\n",
      "Epoch:  2\n",
      "Loss:  tf.Tensor(0.42164913, shape=(), dtype=float32)\n",
      "Epoch:  3\n",
      "Loss:  tf.Tensor(0.37224513, shape=(), dtype=float32)\n",
      "Epoch:  4\n",
      "Loss:  tf.Tensor(0.34227636, shape=(), dtype=float32)\n",
      "Epoch:  5\n",
      "Loss:  tf.Tensor(0.32331645, shape=(), dtype=float32)\n",
      "Epoch:  6\n",
      "Loss:  tf.Tensor(0.31094155, shape=(), dtype=float32)\n",
      "Epoch:  7\n",
      "Loss:  tf.Tensor(0.3025783, shape=(), dtype=float32)\n",
      "Epoch:  8\n",
      "Loss:  tf.Tensor(0.29670173, shape=(), dtype=float32)\n",
      "Epoch:  9\n",
      "Loss:  tf.Tensor(0.29239807, shape=(), dtype=float32)\n",
      "Epoch:  10\n",
      "Loss:  tf.Tensor(0.28911325, shape=(), dtype=float32)\n",
      "Epoch:  11\n",
      "Loss:  tf.Tensor(0.2865066, shape=(), dtype=float32)\n",
      "Epoch:  12\n",
      "Loss:  tf.Tensor(0.28436556, shape=(), dtype=float32)\n",
      "Epoch:  13\n",
      "Loss:  tf.Tensor(0.2825551, shape=(), dtype=float32)\n",
      "Epoch:  14\n",
      "Loss:  tf.Tensor(0.2809877, shape=(), dtype=float32)\n",
      "Epoch:  15\n",
      "Loss:  tf.Tensor(0.27960542, shape=(), dtype=float32)\n",
      "Epoch:  16\n",
      "Loss:  tf.Tensor(0.2783688, shape=(), dtype=float32)\n",
      "Epoch:  17\n",
      "Loss:  tf.Tensor(0.27725047, shape=(), dtype=float32)\n",
      "Epoch:  18\n",
      "Loss:  tf.Tensor(0.27623072, shape=(), dtype=float32)\n",
      "Epoch:  19\n",
      "Loss:  tf.Tensor(0.2752949, shape=(), dtype=float32)\n",
      "Epoch:  20\n",
      "Loss:  tf.Tensor(0.2744321, shape=(), dtype=float32)\n",
      "Epoch:  21\n",
      "Loss:  tf.Tensor(0.2736335, shape=(), dtype=float32)\n",
      "Epoch:  22\n",
      "Loss:  tf.Tensor(0.27289227, shape=(), dtype=float32)\n",
      "Epoch:  23\n",
      "Loss:  tf.Tensor(0.27220255, shape=(), dtype=float32)\n",
      "Epoch:  24\n",
      "Loss:  tf.Tensor(0.27155966, shape=(), dtype=float32)\n",
      "Epoch:  25\n",
      "Loss:  tf.Tensor(0.2709594, shape=(), dtype=float32)\n",
      "Epoch:  26\n",
      "Loss:  tf.Tensor(0.27039823, shape=(), dtype=float32)\n",
      "Epoch:  27\n",
      "Loss:  tf.Tensor(0.26987302, shape=(), dtype=float32)\n",
      "Epoch:  28\n",
      "Loss:  tf.Tensor(0.26938093, shape=(), dtype=float32)\n",
      "Epoch:  29\n",
      "Loss:  tf.Tensor(0.26891947, shape=(), dtype=float32)\n",
      "Epoch:  30\n",
      "Loss:  tf.Tensor(0.2684864, shape=(), dtype=float32)\n",
      "Epoch:  31\n",
      "Loss:  tf.Tensor(0.26807964, shape=(), dtype=float32)\n",
      "Epoch:  32\n",
      "Loss:  tf.Tensor(0.26769733, shape=(), dtype=float32)\n",
      "Epoch:  33\n",
      "Loss:  tf.Tensor(0.26733774, shape=(), dtype=float32)\n",
      "Epoch:  34\n",
      "Loss:  tf.Tensor(0.2669993, shape=(), dtype=float32)\n",
      "Epoch:  35\n",
      "Loss:  tf.Tensor(0.2666806, shape=(), dtype=float32)\n",
      "Epoch:  36\n",
      "Loss:  tf.Tensor(0.26638022, shape=(), dtype=float32)\n",
      "Epoch:  37\n",
      "Loss:  tf.Tensor(0.2660971, shape=(), dtype=float32)\n",
      "Epoch:  38\n",
      "Loss:  tf.Tensor(0.26582992, shape=(), dtype=float32)\n",
      "Epoch:  39\n",
      "Loss:  tf.Tensor(0.26557773, shape=(), dtype=float32)\n",
      "Epoch:  40\n",
      "Loss:  tf.Tensor(0.26533958, shape=(), dtype=float32)\n",
      "Epoch:  41\n",
      "Loss:  tf.Tensor(0.2651145, shape=(), dtype=float32)\n",
      "Epoch:  42\n",
      "Loss:  tf.Tensor(0.26490158, shape=(), dtype=float32)\n",
      "Epoch:  43\n",
      "Loss:  tf.Tensor(0.2647002, shape=(), dtype=float32)\n",
      "Epoch:  44\n",
      "Loss:  tf.Tensor(0.26450953, shape=(), dtype=float32)\n",
      "Epoch:  45\n",
      "Loss:  tf.Tensor(0.26432893, shape=(), dtype=float32)\n",
      "Epoch:  46\n",
      "Loss:  tf.Tensor(0.26415777, shape=(), dtype=float32)\n",
      "Epoch:  47\n",
      "Loss:  tf.Tensor(0.26399544, shape=(), dtype=float32)\n",
      "Epoch:  48\n",
      "Loss:  tf.Tensor(0.26384145, shape=(), dtype=float32)\n",
      "Epoch:  49\n",
      "Loss:  tf.Tensor(0.26369524, shape=(), dtype=float32)\n"
     ]
    }
   ],
   "source": [
    "# Create and train a SimpleLinearRegression object\n",
    "linear_model = SimpleLinearRegression('zeros')\n",
    "linear_model.train(x_train_norm, y_train_norm, learning_rate=0.1, epochs=50)"
   ]
  },
  {
   "cell_type": "markdown",
   "metadata": {
    "id": "Lqje3RkVReaW"
   },
   "source": [
    "You may observe the losses from the last 5 iterations."
   ]
  },
  {
   "cell_type": "markdown",
   "metadata": {
    "id": "zHRfXo8WRv5b"
   },
   "source": [
    "Prediction using the test set:"
   ]
  },
  {
   "cell_type": "code",
   "execution_count": null,
   "metadata": {
    "id": "G8b0tII8Rljo"
   },
   "outputs": [],
   "source": [
    "# standardize\n",
    "x_test_norm = (x_test-mean_feat)/std_feat\n",
    "\n",
    "# reverse standardization\n",
    "pred = linear_model.predict(x_test_norm)\n",
    "pred *= std_label\n",
    "pred += mean_label"
   ]
  },
  {
   "cell_type": "markdown",
   "metadata": {
    "id": "cZPw9dHsSPtP"
   },
   "source": [
    "We have to standardize the input first, then reverse the process once we have the prediction."
   ]
  },
  {
   "cell_type": "code",
   "execution_count": null,
   "metadata": {
    "colab": {
     "base_uri": "https://localhost:8080/"
    },
    "id": "AVO7DLZITPP2",
    "outputId": "7a9670fd-5be3-476e-a49b-9c29a48ec034"
   },
   "outputs": [
    {
     "data": {
      "text/plain": [
       "<tf.Tensor: shape=(102,), dtype=float32, numpy=\n",
       "array([ 15.493391 ,  32.276627 ,  34.781364 ,  46.53382  ,  46.063335 ,\n",
       "        26.763977 ,  43.961395 ,  48.16692  ,  27.247055 ,  29.595062 ,\n",
       "        37.47946  ,  31.949041 ,  21.870016 ,  50.689484 ,  21.40375  ,\n",
       "        45.068027 ,  51.23913  ,  43.670334 ,  26.929611 ,  20.361582 ,\n",
       "        18.650986 ,  26.33133  ,  37.545963 ,  41.810593 ,  49.360825 ,\n",
       "        35.007225 ,  60.989433 ,  49.435585 ,  15.581781 ,  48.119095 ,\n",
       "        33.686028 ,  31.232752 ,  68.1026   ,  50.272144 ,  25.706253 ,\n",
       "         5.0762978, -12.553913 ,  25.444294 ,  23.475952 ,  48.19334  ,\n",
       "        51.693394 ,  49.760246 ,  10.147132 ,  47.864845 ,  44.19986  ,\n",
       "        41.162117 ,  45.95805  ,  30.491758 ,  12.089763 ,  40.607155 ,\n",
       "        55.33814  ,  44.40934  ,   5.6723804,  30.1437   ,  54.315247 ,\n",
       "        48.364098 ,  14.018711 ,  43.463715 ,  68.38069  ,  44.162075 ,\n",
       "        28.241243 ,  14.878228 ,  29.968256 ,  27.28416  ,  40.486366 ,\n",
       "        50.780373 ,  11.347201 ,  50.87624  ,  17.788723 ,  11.533855 ,\n",
       "        21.814959 ,  49.313164 ,  35.04516  ,  19.954428 ,  49.957924 ,\n",
       "        34.275887 ,  48.104523 ,  41.62744  ,  51.989655 ,   4.5862026,\n",
       "        38.10661  ,  29.724476 ,  42.190277 ,   8.168283 ,  30.483082 ,\n",
       "        34.90176  ,  24.51429  ,  50.17706  ,  31.329304 ,  39.60157  ,\n",
       "        43.710915 ,  45.094795 ,  51.713417 ,  56.153393 ,  52.004925 ,\n",
       "        -9.301634 ,  28.884453 ,  42.531494 ,  48.157623 ,  54.7752   ,\n",
       "        61.695316 ,  26.891344 ], dtype=float32)>"
      ]
     },
     "execution_count": 16,
     "metadata": {},
     "output_type": "execute_result"
    }
   ],
   "source": [
    "pred"
   ]
  },
  {
   "cell_type": "code",
   "execution_count": null,
   "metadata": {
    "colab": {
     "base_uri": "https://localhost:8080/"
    },
    "id": "iTfmOU0cTT-d",
    "outputId": "e3c932a0-3531-4d99-d37e-f4efcfd02a89"
   },
   "outputs": [
    {
     "data": {
      "text/plain": [
       "array([[-0.23744154, -0.50398828, -1.48115445, ..., -8.05017099,\n",
       "        -3.81157809, -1.44776868],\n",
       "       [-0.44830502, -0.50398828, -1.65596347, ..., -8.54709669,\n",
       "        -3.76995946, -1.69234872],\n",
       "       [-0.44910708, -0.50398828, -1.76011422, ..., -8.05017099,\n",
       "        -3.76973875, -1.81559115],\n",
       "       ...,\n",
       "       [-0.4282242 , -0.50398828, -1.44917455, ..., -9.18895907,\n",
       "        -3.77056388, -1.96454878],\n",
       "       [-0.44554849, -0.50398828, -1.7382901 , ..., -8.62991765,\n",
       "        -3.77032732, -1.8161626 ],\n",
       "       [-0.41542504, -0.50398828, -1.44917455, ..., -9.18895907,\n",
       "        -3.78747958, -1.81425777]])"
      ]
     },
     "execution_count": 17,
     "metadata": {},
     "output_type": "execute_result"
    }
   ],
   "source": [
    "x_test_norm"
   ]
  },
  {
   "cell_type": "code",
   "execution_count": null,
   "metadata": {
    "colab": {
     "base_uri": "https://localhost:8080/",
     "height": 299
    },
    "id": "habTe8kxSO9Q",
    "outputId": "a83ae71b-9892-45bd-a419-cf1b53a5912c"
   },
   "outputs": [
    {
     "data": {
      "image/png": "[encoded data removed]",
      "text/plain": [
       "<Figure size 432x288 with 1 Axes>"
      ]
     },
     "metadata": {
      "needs_background": "light"
     },
     "output_type": "display_data"
    }
   ],
   "source": [
    "plt.scatter(y_test, pred)\n",
    "plt.plot(range(80), range(80))\n",
    "plt.xlabel(\"Prices: $Y_i$\")\n",
    "plt.ylabel(\"Predicted prices: $\\hat{Y}_i$\")\n",
    "plt.title(\"Actual vs Predicted\")\n",
    "plt.show()"
   ]
  },
  {
   "cell_type": "markdown",
   "metadata": {
    "id": "v8YDUORgXsYw"
   },
   "source": [
    "**Conclusion**\n",
    "\n",
    "Despite its simplicity, linear regression is one of the most commonly used machine learning algorithms in the industry. Although there are much simpler ways to implement this algorithm like using scikit-learn and even TensorFlow’s LinearRegressor, we implemented the entire algorithm from scratch with the intent of experiencing TensorFlow’s functions.\n",
    "\n",
    "When you go into neural networks, there are high-level libraries like Keras which simplifies the process of building neural networks using TensorFlow as backend. But eventually, you would want to customize your models however you want it, and this is where the low-level functions of TensorFlow are very useful.\n"
   ]
  }
 ],
 "metadata": {
  "colab": {
   "name": "TF_Lin_Reg_From_Scratch.ipynb",
   "provenance": []
  },
  "kernelspec": {
   "display_name": "Python 3",
   "language": "python",
   "name": "python3"
  },
  "language_info": {
   "codemirror_mode": {
    "name": "ipython",
    "version": 3
   },
   "file_extension": ".py",
   "mimetype": "text/x-python",
   "name": "python",
   "nbconvert_exporter": "python",
   "pygments_lexer": "ipython3",
   "version": "3.6.5"
  }
 },
 "nbformat": 4,
 "nbformat_minor": 1
}
