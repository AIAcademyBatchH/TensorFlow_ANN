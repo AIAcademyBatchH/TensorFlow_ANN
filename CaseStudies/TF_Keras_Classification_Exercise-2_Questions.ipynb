{
 "cells": [
  {
   "cell_type": "markdown",
   "metadata": {},
   "source": [
    "#### Context\n",
    "\n",
    "World Health Organization has estimated 12 million deaths occur worldwide, every year due to Heart diseases. Half the deaths in the United States and other developed countries are due to cardio vascular diseases. The early prognosis of cardiovascular diseases can aid in making decisions on lifestyle changes in high risk patients and in turn reduce the complications. This research intends to pinpoint the most relevant/risk factors of heart disease as well as predict the overall risk using the best accuracy classification model.\n",
    "\n",
    "This data set dates from 1988 and consists of four databases: Cleveland, Hungary, Switzerland, and Long Beach V. It contains 76 attributes, including the predicted attribute, but all published experiments refer to using a subset of 14 of them. \n",
    "\n",
    "The \"output\" field refers to the presence of heart disease in the patient. It is integer valued 0 = no disease and 1 = disease.\n",
    "\n",
    "#### Data Dictionary\n",
    "- age - Age of the patient\n",
    "- sex - Sex of the patient\n",
    "- cp - Chest pain type ~ 0 = Typical Angina, 1 = Atypical Angina, 2 = Non-anginal Pain, 3 = Asymptomatic\n",
    "- trtbps - Resting blood pressure (in mm Hg)\n",
    "- chol - Cholestoral in mg/dl fetched via BMI sensor\n",
    "- fbs - (fasting blood sugar > 120 mg/dl) ~ 1 = True, 0 = False\n",
    "- restecg - Resting electrocardiographic results ~ 0 = Normal, 1 = ST-T wave normality, 2 = Left ventricular hypertrophy\n",
    "- thalachh - Maximum heart rate achieved\n",
    "- oldpeak - Previous peak; ST depression induced by exercise relative to rest\n",
    "- slp - Slope of the peak exercise ST segment\n",
    "- caa - Number of major vessels (0-3) colored by floursopy\n",
    "- thall - Thalium Stress Test result ~ 0 = normal, 1 = fixed defect, 2 = reversable defect\n",
    "- exng - Exercise induced angina ~ 1 = Yes, 0 = No\n",
    "- output - Target variable ~ 0= less chance of heart attack, 1= more chance of heart attack"
   ]
  },
  {
   "cell_type": "code",
   "execution_count": 1,
   "metadata": {},
   "outputs": [],
   "source": [
    "# Questions:\n",
    "# 1. Read the dataset and carry out the usual exploratory process, and do the needful to clean the data.\n",
    "#    Also do feature-target segregation followed by the usual train-test split.\n",
    "# 2. Train the model with input layer of 500 neurons, two hidden layers of 250 and 125 neurons respectively.\n",
    "#    Use 'tanh' activation function in input as well as the first hidden layer, and 'sigmoid' in the other hidden layer.\n",
    "#    Add output layer with suitable number of nodes with softmax function.\n",
    "# 3. Compile the model using this: optimizer='adam', loss='categorical_crossentropy', metrics=['accuracy'].\n",
    "# 4. Fit the model and run 200 epochs. Obtain probability prediction for a random test record and compare with actual label.\n",
    "# 5. Plot the training and validation loss along with accuracy.\n",
    "# 6. Using GridSearchCV, tune batch size, optimizer and number of neurons. Obtain the best parameters and best score in each\n",
    "#    case. Plot the loss and accuracy after modeling using the best parameters obtained."
   ]
  },
  {
   "cell_type": "code",
   "execution_count": null,
   "metadata": {},
   "outputs": [],
   "source": [
    "# Questions:\n",
    "# dataset: https://www.kaggle.com/mlg-ulb/creditcardfraud/\n",
    "## build a binary classifier using keras module - dont balance the classes, leave it as is\n",
    "# use loss='binary_crossentropy'\n",
    "## use keras.metrics module to check out some metrics (precision, recall, tp, fp, tn, fn) -  and use this information to \n",
    "##                        see how correctly and incorrectly the fraudulent cases are being classified"
   ]
  }
 ],
 "metadata": {
  "kernelspec": {
   "display_name": "Python 3",
   "language": "python",
   "name": "python3"
  },
  "language_info": {
   "codemirror_mode": {
    "name": "ipython",
    "version": 3
   },
   "file_extension": ".py",
   "mimetype": "text/x-python",
   "name": "python",
   "nbconvert_exporter": "python",
   "pygments_lexer": "ipython3",
   "version": "3.6.5"
  }
 },
 "nbformat": 4,
 "nbformat_minor": 5
}
