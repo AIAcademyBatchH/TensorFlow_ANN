{
 "cells": [
  {
   "cell_type": "markdown",
   "metadata": {},
   "source": [
    "You have a dataset on car purchase details in USA along with the customer details and asked to do the following.\n",
    "\n",
    "**Objective**\n",
    "\n",
    "Predict the total amount that customers are willing to pay for the new car. This information will be later on used to do the targeted marketing based on the customer profile.\n",
    "\n",
    "- Customer Name\n",
    "- Customer e-mail\n",
    "- Country\n",
    "- Gender\n",
    "- Age\n",
    "- Annual Salary\n",
    "- Credit Card Debt\n",
    "- Net Worth\n",
    "- Car Purchase Amount (target)"
   ]
  },
  {
   "cell_type": "code",
   "execution_count": 1,
   "metadata": {},
   "outputs": [],
   "source": [
    "# Questions:\n",
    "\n",
    "# 1. Read the dataset and carry out the usual exploratory process, and do the needful to clean the data.\n",
    "# 2. Do the feature-label segregation as well as train-test split, and normalize the train features.\n",
    "# 3. Train the model on all the input features with two hidden layers of 250 and 85 neurons respectively, using mae as loss function.\n",
    "# 4. Fit the model and run 150 epochs, and plot the training and validation loss. Obtain the mae score and plot the predictions.\n",
    "# 5. Carry out combined L2 regularization + Dropout."
   ]
  }
 ],
 "metadata": {
  "kernelspec": {
   "display_name": "Python 3",
   "language": "python",
   "name": "python3"
  },
  "language_info": {
   "codemirror_mode": {
    "name": "ipython",
    "version": 3
   },
   "file_extension": ".py",
   "mimetype": "text/x-python",
   "name": "python",
   "nbconvert_exporter": "python",
   "pygments_lexer": "ipython3",
   "version": "3.6.5"
  }
 },
 "nbformat": 4,
 "nbformat_minor": 5
}
